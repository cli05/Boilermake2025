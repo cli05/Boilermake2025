{
 "cells": [
  {
   "cell_type": "code",
   "execution_count": 1,
   "id": "318d2897-06c9-4428-bae1-e1230236a120",
   "metadata": {
    "scrolled": true
   },
   "outputs": [
    {
     "name": "stdout",
     "output_type": "stream",
     "text": [
      "Requirement already satisfied: transformers in /opt/anaconda3/lib/python3.12/site-packages (4.49.0)\n",
      "Requirement already satisfied: filelock in /opt/anaconda3/lib/python3.12/site-packages (from transformers) (3.13.1)\n",
      "Requirement already satisfied: huggingface-hub<1.0,>=0.26.0 in /opt/anaconda3/lib/python3.12/site-packages (from transformers) (0.29.1)\n",
      "Requirement already satisfied: numpy>=1.17 in /opt/anaconda3/lib/python3.12/site-packages (from transformers) (1.26.4)\n",
      "Requirement already satisfied: packaging>=20.0 in /opt/anaconda3/lib/python3.12/site-packages (from transformers) (23.2)\n",
      "Requirement already satisfied: pyyaml>=5.1 in /opt/anaconda3/lib/python3.12/site-packages (from transformers) (6.0.1)\n",
      "Requirement already satisfied: regex!=2019.12.17 in /opt/anaconda3/lib/python3.12/site-packages (from transformers) (2023.10.3)\n",
      "Requirement already satisfied: requests in /opt/anaconda3/lib/python3.12/site-packages (from transformers) (2.32.2)\n",
      "Requirement already satisfied: tokenizers<0.22,>=0.21 in /opt/anaconda3/lib/python3.12/site-packages (from transformers) (0.21.0)\n",
      "Requirement already satisfied: safetensors>=0.4.1 in /opt/anaconda3/lib/python3.12/site-packages (from transformers) (0.5.2)\n",
      "Requirement already satisfied: tqdm>=4.27 in /opt/anaconda3/lib/python3.12/site-packages (from transformers) (4.66.4)\n",
      "Requirement already satisfied: fsspec>=2023.5.0 in /opt/anaconda3/lib/python3.12/site-packages (from huggingface-hub<1.0,>=0.26.0->transformers) (2024.3.1)\n",
      "Requirement already satisfied: typing-extensions>=3.7.4.3 in /opt/anaconda3/lib/python3.12/site-packages (from huggingface-hub<1.0,>=0.26.0->transformers) (4.11.0)\n",
      "Requirement already satisfied: charset-normalizer<4,>=2 in /opt/anaconda3/lib/python3.12/site-packages (from requests->transformers) (2.0.4)\n",
      "Requirement already satisfied: idna<4,>=2.5 in /opt/anaconda3/lib/python3.12/site-packages (from requests->transformers) (3.7)\n",
      "Requirement already satisfied: urllib3<3,>=1.21.1 in /opt/anaconda3/lib/python3.12/site-packages (from requests->transformers) (2.2.2)\n",
      "Requirement already satisfied: certifi>=2017.4.17 in /opt/anaconda3/lib/python3.12/site-packages (from requests->transformers) (2024.8.30)\n",
      "Note: you may need to restart the kernel to use updated packages.\n"
     ]
    }
   ],
   "source": [
    "%pip install transformers"
   ]
  },
  {
   "cell_type": "code",
   "execution_count": 2,
   "id": "b7562e4e-0fdb-4551-8abe-b28742338b08",
   "metadata": {},
   "outputs": [],
   "source": [
    "from transformers import pipeline\n",
    "import random\n",
    "import pandas as pd\n",
    "import math\n",
    "import numpy as np\n",
    "import matplotlib.pyplot as plt\n",
    "from scipy.stats import norm\n"
   ]
  },
  {
   "cell_type": "code",
   "execution_count": 3,
   "id": "c772ce9a-fc2a-4ac4-ab0f-994d55d59ce3",
   "metadata": {},
   "outputs": [],
   "source": [
    "df = pd.read_csv(\"data/songListCleaned.csv\")\n",
    "features = [\"popularity\", \"duration_ms\", \"danceability\", \"energy\", \"loudness\", \"speechiness\",\n",
    "            \"acousticness\", \"instrumentalness\", \"liveness\", \"valence\", \"tempo\"]\n",
    "# labels = {\n",
    "#     # Valence\n",
    "#     \"high valence\": [0.7, 1.0],\n",
    "#     \"medium valence\": [0.3, 0.7],\n",
    "#     \"low valence\": [0.0, 0.3],\n",
    "\n",
    "#     # Popularity\n",
    "#     \"high popularity\": [0.7, 1.0],\n",
    "#     \"medium popularity\": [0.3, 0.7],\n",
    "#     \"low popularity\": [0.0, 0.3],\n",
    "\n",
    "#     # Duration (normalized to [0.0, 1.0])\n",
    "#     \"high duration\": [0.7, 1.0],\n",
    "#     \"medium duration\": [0.3, 0.7],\n",
    "#     \"short duration\": [0.0, 0.3],\n",
    "\n",
    "#     # Danceability\n",
    "#     \"high danceability\": [0.7, 1.0],\n",
    "#     \"medium danceability\": [0.3, 0.7],\n",
    "#     \"low danceability\": [0.0, 0.3],\n",
    "\n",
    "#     # Energy\n",
    "#     \"high energy\": [0.7, 1.0],\n",
    "#     \"medium energy\": [0.3, 0.7],\n",
    "#     \"low energy\": [0.0, 0.3],\n",
    "\n",
    "#     # Loudness (normalized to [0.0, 1.0])\n",
    "#     \"high loudness\": [0.7, 1.0],\n",
    "#     \"medium loudness\": [0.3, 0.7],\n",
    "#     \"low loudness\": [0.0, 0.3],\n",
    "\n",
    "#     # Speechiness\n",
    "#     \"high speechiness\": [0.7, 1.0],\n",
    "#     \"medium speechiness\": [0.3, 0.7],\n",
    "#     \"low speechiness\": [0.0, 0.3],\n",
    "\n",
    "#     # Acousticness\n",
    "#     \"high acousticness\": [0.7, 1.0],\n",
    "#     \"medium acousticness\": [0.3, 0.7],\n",
    "#     \"low acousticness\": [0.0, 0.3],\n",
    "\n",
    "#     # Instrumentalness\n",
    "#     \"high instrumentalness\": [0.7, 1.0],\n",
    "#     \"medium instrumentalness\": [0.3, 0.7],\n",
    "#     \"low instrumentalness\": [0.0, 0.3],\n",
    "\n",
    "#     # Liveness\n",
    "#     \"high liveness\": [0.7, 1.0],\n",
    "#     \"medium liveness\": [0.3, 0.7],\n",
    "#     \"low liveness\": [0.0, 0.3],\n",
    "\n",
    "#     # Tempo (normalized to [0.0, 1.0])\n",
    "#     \"high tempo\": [0.7, 1.0],\n",
    "#     \"medium tempo\": [0.3, 0.7],\n",
    "#     \"low tempo\": [0.0, 0.3],\n",
    "# }"
   ]
  },
  {
   "cell_type": "code",
   "execution_count": 4,
   "id": "4c731b86-5974-4a78-aa46-bbcad77f8b3f",
   "metadata": {},
   "outputs": [],
   "source": [
    "# # Define min and max values for each feature (adjust based on your dataset)\n",
    "# feature_ranges = {\n",
    "#     \"valence\": (0.0, 1.0),\n",
    "#     \"popularity\": (0, 100),\n",
    "#     \"duration_ms\": (8586, 5237295),  # Adjust based on your dataset\n",
    "#     \"danceability\": (0.0, 0.985),\n",
    "#     \"energy\": (0.0, 1.0),\n",
    "#     \"loudness\": (-49.531, 4.532),  # Loudness ranges from -60 dB to 0 dB\n",
    "#     \"speechiness\": (0.0, 0.965),\n",
    "#     \"acousticness\": (0.0, 0.996),\n",
    "#     \"instrumentalness\": (0.0, 1.0),\n",
    "#     \"liveness\": (0.0, 1.0),\n",
    "#     \"tempo\": (0, 243.372),  # Tempo ranges from 0 BPM to 250 BPM\n",
    "# }\n",
    "\n",
    "# # Normalize features to [0.0, 1.0]\n",
    "# for feature, (min_val, max_val) in feature_ranges.items():\n",
    "#     df[f\"{feature}_normalized\"] = (df[feature] - min_val) / (max_val - min_val)\n",
    "\n",
    "# # Display the updated dataset\n",
    "# print(df.head())"
   ]
  },
  {
   "cell_type": "code",
   "execution_count": 5,
   "id": "ad67e51a-1218-49c7-a467-5d3878b27ba7",
   "metadata": {},
   "outputs": [],
   "source": [
    "#remove trash columns\n",
    "df = df.drop(['Unnamed: 0.1', 'artists', 'album_name', 'track_name', 'explicit', 'key',\n",
    "        'mode', 'time_signature'], axis=1)"
   ]
  },
  {
   "cell_type": "code",
   "execution_count": 29,
   "id": "dc3f7016-08bf-4bf0-9acf-ec1da55b7ed8",
   "metadata": {
    "scrolled": true
   },
   "outputs": [
    {
     "data": {
      "text/html": [
       "<div>\n",
       "<style scoped>\n",
       "    .dataframe tbody tr th:only-of-type {\n",
       "        vertical-align: middle;\n",
       "    }\n",
       "\n",
       "    .dataframe tbody tr th {\n",
       "        vertical-align: top;\n",
       "    }\n",
       "\n",
       "    .dataframe thead th {\n",
       "        text-align: right;\n",
       "    }\n",
       "</style>\n",
       "<table border=\"1\" class=\"dataframe\">\n",
       "  <thead>\n",
       "    <tr style=\"text-align: right;\">\n",
       "      <th></th>\n",
       "      <th>Unnamed: 0</th>\n",
       "      <th>track_id</th>\n",
       "      <th>popularity</th>\n",
       "      <th>duration_ms</th>\n",
       "      <th>danceability</th>\n",
       "      <th>energy</th>\n",
       "      <th>loudness</th>\n",
       "      <th>speechiness</th>\n",
       "      <th>acousticness</th>\n",
       "      <th>instrumentalness</th>\n",
       "      <th>liveness</th>\n",
       "      <th>valence</th>\n",
       "      <th>tempo</th>\n",
       "      <th>track_genre</th>\n",
       "    </tr>\n",
       "  </thead>\n",
       "  <tbody>\n",
       "    <tr>\n",
       "      <th>0</th>\n",
       "      <td>39463</td>\n",
       "      <td>0000vdREvCVMxbQTkS888c</td>\n",
       "      <td>44</td>\n",
       "      <td>160725</td>\n",
       "      <td>0.910</td>\n",
       "      <td>0.374</td>\n",
       "      <td>-9.844</td>\n",
       "      <td>0.1990</td>\n",
       "      <td>0.075700</td>\n",
       "      <td>0.003010</td>\n",
       "      <td>0.1540</td>\n",
       "      <td>0.432</td>\n",
       "      <td>104.042</td>\n",
       "      <td>german</td>\n",
       "    </tr>\n",
       "    <tr>\n",
       "      <th>1</th>\n",
       "      <td>17586</td>\n",
       "      <td>000CC8EParg64OmTxVnZ0p</td>\n",
       "      <td>47</td>\n",
       "      <td>322933</td>\n",
       "      <td>0.269</td>\n",
       "      <td>0.516</td>\n",
       "      <td>-7.361</td>\n",
       "      <td>0.0366</td>\n",
       "      <td>0.406000</td>\n",
       "      <td>0.000000</td>\n",
       "      <td>0.1170</td>\n",
       "      <td>0.341</td>\n",
       "      <td>178.174</td>\n",
       "      <td>club</td>\n",
       "    </tr>\n",
       "    <tr>\n",
       "      <th>2</th>\n",
       "      <td>73441</td>\n",
       "      <td>000Iz0K615UepwSJ5z2RE5</td>\n",
       "      <td>22</td>\n",
       "      <td>515360</td>\n",
       "      <td>0.686</td>\n",
       "      <td>0.560</td>\n",
       "      <td>-13.264</td>\n",
       "      <td>0.0462</td>\n",
       "      <td>0.001140</td>\n",
       "      <td>0.181000</td>\n",
       "      <td>0.1110</td>\n",
       "      <td>0.108</td>\n",
       "      <td>119.997</td>\n",
       "      <td>minimal-techno</td>\n",
       "    </tr>\n",
       "    <tr>\n",
       "      <th>3</th>\n",
       "      <td>51365</td>\n",
       "      <td>000RDCYioLteXcutOjeweY</td>\n",
       "      <td>62</td>\n",
       "      <td>190203</td>\n",
       "      <td>0.679</td>\n",
       "      <td>0.770</td>\n",
       "      <td>-3.537</td>\n",
       "      <td>0.1900</td>\n",
       "      <td>0.058300</td>\n",
       "      <td>0.000000</td>\n",
       "      <td>0.0825</td>\n",
       "      <td>0.839</td>\n",
       "      <td>161.721</td>\n",
       "      <td>hip-hop</td>\n",
       "    </tr>\n",
       "    <tr>\n",
       "      <th>4</th>\n",
       "      <td>73649</td>\n",
       "      <td>000qpdoc97IMTBvF8gwcpy</td>\n",
       "      <td>19</td>\n",
       "      <td>331240</td>\n",
       "      <td>0.519</td>\n",
       "      <td>0.431</td>\n",
       "      <td>-13.606</td>\n",
       "      <td>0.0291</td>\n",
       "      <td>0.000964</td>\n",
       "      <td>0.720000</td>\n",
       "      <td>0.0916</td>\n",
       "      <td>0.234</td>\n",
       "      <td>129.971</td>\n",
       "      <td>minimal-techno</td>\n",
       "    </tr>\n",
       "    <tr>\n",
       "      <th>5</th>\n",
       "      <td>18342</td>\n",
       "      <td>0017XiMkqbTfF2AUOzlhj6</td>\n",
       "      <td>24</td>\n",
       "      <td>127040</td>\n",
       "      <td>0.536</td>\n",
       "      <td>0.780</td>\n",
       "      <td>-9.449</td>\n",
       "      <td>0.9450</td>\n",
       "      <td>0.792000</td>\n",
       "      <td>0.000000</td>\n",
       "      <td>0.7350</td>\n",
       "      <td>0.452</td>\n",
       "      <td>173.912</td>\n",
       "      <td>comedy</td>\n",
       "    </tr>\n",
       "    <tr>\n",
       "      <th>6</th>\n",
       "      <td>15028</td>\n",
       "      <td>001APMDOl3qtx1526T11n1</td>\n",
       "      <td>0</td>\n",
       "      <td>176320</td>\n",
       "      <td>0.613</td>\n",
       "      <td>0.471</td>\n",
       "      <td>-6.644</td>\n",
       "      <td>0.1070</td>\n",
       "      <td>0.316000</td>\n",
       "      <td>0.000001</td>\n",
       "      <td>0.1170</td>\n",
       "      <td>0.406</td>\n",
       "      <td>143.064</td>\n",
       "      <td>chill,soul</td>\n",
       "    </tr>\n",
       "    <tr>\n",
       "      <th>7</th>\n",
       "      <td>100420</td>\n",
       "      <td>001YQlnDSduXd5LgBd66gT</td>\n",
       "      <td>38</td>\n",
       "      <td>177266</td>\n",
       "      <td>0.554</td>\n",
       "      <td>0.921</td>\n",
       "      <td>-4.589</td>\n",
       "      <td>0.0758</td>\n",
       "      <td>0.019400</td>\n",
       "      <td>0.088100</td>\n",
       "      <td>0.3290</td>\n",
       "      <td>0.700</td>\n",
       "      <td>183.571</td>\n",
       "      <td>ska,punk-rock</td>\n",
       "    </tr>\n",
       "    <tr>\n",
       "      <th>8</th>\n",
       "      <td>7118</td>\n",
       "      <td>001pyq8FLNSL1C8orNLI0b</td>\n",
       "      <td>30</td>\n",
       "      <td>214600</td>\n",
       "      <td>0.580</td>\n",
       "      <td>0.290</td>\n",
       "      <td>-11.942</td>\n",
       "      <td>0.0272</td>\n",
       "      <td>0.261000</td>\n",
       "      <td>0.000000</td>\n",
       "      <td>0.1250</td>\n",
       "      <td>0.497</td>\n",
       "      <td>91.321</td>\n",
       "      <td>bluegrass</td>\n",
       "    </tr>\n",
       "    <tr>\n",
       "      <th>9</th>\n",
       "      <td>46690</td>\n",
       "      <td>002qpSULhHAw6DGqFxbaO1</td>\n",
       "      <td>17</td>\n",
       "      <td>410666</td>\n",
       "      <td>0.531</td>\n",
       "      <td>0.950</td>\n",
       "      <td>-9.744</td>\n",
       "      <td>0.0433</td>\n",
       "      <td>0.001220</td>\n",
       "      <td>0.826000</td>\n",
       "      <td>0.0613</td>\n",
       "      <td>0.553</td>\n",
       "      <td>159.974</td>\n",
       "      <td>happy</td>\n",
       "    </tr>\n",
       "  </tbody>\n",
       "</table>\n",
       "</div>"
      ],
      "text/plain": [
       "   Unnamed: 0                track_id  popularity  duration_ms  danceability  \\\n",
       "0       39463  0000vdREvCVMxbQTkS888c          44       160725         0.910   \n",
       "1       17586  000CC8EParg64OmTxVnZ0p          47       322933         0.269   \n",
       "2       73441  000Iz0K615UepwSJ5z2RE5          22       515360         0.686   \n",
       "3       51365  000RDCYioLteXcutOjeweY          62       190203         0.679   \n",
       "4       73649  000qpdoc97IMTBvF8gwcpy          19       331240         0.519   \n",
       "5       18342  0017XiMkqbTfF2AUOzlhj6          24       127040         0.536   \n",
       "6       15028  001APMDOl3qtx1526T11n1           0       176320         0.613   \n",
       "7      100420  001YQlnDSduXd5LgBd66gT          38       177266         0.554   \n",
       "8        7118  001pyq8FLNSL1C8orNLI0b          30       214600         0.580   \n",
       "9       46690  002qpSULhHAw6DGqFxbaO1          17       410666         0.531   \n",
       "\n",
       "   energy  loudness  speechiness  acousticness  instrumentalness  liveness  \\\n",
       "0   0.374    -9.844       0.1990      0.075700          0.003010    0.1540   \n",
       "1   0.516    -7.361       0.0366      0.406000          0.000000    0.1170   \n",
       "2   0.560   -13.264       0.0462      0.001140          0.181000    0.1110   \n",
       "3   0.770    -3.537       0.1900      0.058300          0.000000    0.0825   \n",
       "4   0.431   -13.606       0.0291      0.000964          0.720000    0.0916   \n",
       "5   0.780    -9.449       0.9450      0.792000          0.000000    0.7350   \n",
       "6   0.471    -6.644       0.1070      0.316000          0.000001    0.1170   \n",
       "7   0.921    -4.589       0.0758      0.019400          0.088100    0.3290   \n",
       "8   0.290   -11.942       0.0272      0.261000          0.000000    0.1250   \n",
       "9   0.950    -9.744       0.0433      0.001220          0.826000    0.0613   \n",
       "\n",
       "   valence    tempo     track_genre  \n",
       "0    0.432  104.042          german  \n",
       "1    0.341  178.174            club  \n",
       "2    0.108  119.997  minimal-techno  \n",
       "3    0.839  161.721         hip-hop  \n",
       "4    0.234  129.971  minimal-techno  \n",
       "5    0.452  173.912          comedy  \n",
       "6    0.406  143.064      chill,soul  \n",
       "7    0.700  183.571   ska,punk-rock  \n",
       "8    0.497   91.321       bluegrass  \n",
       "9    0.553  159.974           happy  "
      ]
     },
     "execution_count": 29,
     "metadata": {},
     "output_type": "execute_result"
    }
   ],
   "source": [
    "df.head(10)"
   ]
  },
  {
   "cell_type": "code",
   "execution_count": 39,
   "id": "8cb26317-f9ac-4098-b965-2860571aca15",
   "metadata": {},
   "outputs": [
    {
     "name": "stdout",
     "output_type": "stream",
     "text": [
      "['german']\n",
      "['club']\n",
      "['minimal-techno']\n",
      "['hip-hop']\n",
      "['minimal-techno']\n",
      "['comedy']\n",
      "['chill', 'soul']\n",
      "['ska', 'punk-rock']\n",
      "['bluegrass']\n",
      "['happy']\n"
     ]
    }
   ],
   "source": [
    "for ind, row in df.head(10).iterrows():\n",
    "    print(row[\"track_genre\"].split(\",\"))"
   ]
  },
  {
   "cell_type": "code",
   "execution_count": 6,
   "id": "41e33fc5-95d9-422f-a363-9d2519d414f9",
   "metadata": {},
   "outputs": [
    {
     "name": "stdout",
     "output_type": "stream",
     "text": [
      "14\n",
      "[24.33680521 42.06213859]\n",
      "[180494.49920464 277791.12563666]\n",
      "[0.48605866 0.63826919]\n",
      "[0.52392875 0.74498114]\n",
      "[-10.74809182  -6.25003931]\n",
      "[0.03864951 0.13623205]\n",
      "[0.18255797 0.47400267]\n",
      "[0.03392167 0.31290016]\n",
      "[0.13302708 0.30090977]\n",
      "[0.35624953 0.58269212]\n",
      "[109.08536386 135.03007629]\n",
      "{'high popularity': [42.06213858625163, 100], 'medium popularity': [24.336805205185797, 42.06213858625163], 'low popularity': [0, 24.336805205185797], 'high duration_ms': [277791.1256366565, 5237295], 'medium duration_ms': [180494.499204635, 277791.1256366565], 'low duration_ms': [8586, 180494.499204635], 'high danceability': [0.6382691939772152, 0.985], 'medium danceability': [0.48605865656399494, 0.6382691939772152], 'low danceability': [0.0, 0.48605865656399494], 'high energy': [0.7449811392830035, 1.0], 'medium energy': [0.5239287468845211, 0.7449811392830035], 'low energy': [0.0, 0.5239287468845211], 'high loudness': [-6.2500393083862695, 4.532], 'medium loudness': [-10.748091817015506, -6.2500393083862695], 'low loudness': [-49.531, -10.748091817015506], 'high speechiness': [0.13623204572910647, 0.965], 'medium speechiness': [0.03864950564260645, 0.13623204572910647], 'low speechiness': [0.0, 0.03864950564260645], 'high acousticness': [0.4740026692392782, 0.996], 'medium acousticness': [0.18255796568392224, 0.4740026692392782], 'low acousticness': [0.0, 0.18255796568392224], 'high instrumentalness': [0.31290016148271904, 1.0], 'medium instrumentalness': [0.03392167416932562, 0.31290016148271904], 'low instrumentalness': [0.0, 0.03392167416932562], 'high liveness': [0.30090977169984284, 1.0], 'medium liveness': [0.1330270772625678, 0.30090977169984284], 'low liveness': [0.0, 0.1330270772625678], 'high valence': [0.5826921205040139, 0.995], 'medium valence': [0.35624952525278547, 0.5826921205040139], 'low valence': [0.0, 0.35624952525278547], 'high tempo': [135.03007628967543, 243.372], 'medium tempo': [109.08536385767847, 135.03007628967543], 'low tempo': [0.0, 109.08536385767847]}\n"
     ]
    }
   ],
   "source": [
    "labels = {}\n",
    "\n",
    "# Loop through the specified columns\n",
    "print(len(df.columns))\n",
    "for col in df.columns[2:13]:\n",
    "    # Calculate mean and standard deviation\n",
    "    mn = df[col].mean()\n",
    "    std = df[col].std()\n",
    "    min = df[col].min()\n",
    "    max = df[col].max()\n",
    "    quantiles = norm.ppf([0.33333, 0.66666], loc=mn, scale=std)\n",
    "\n",
    "    print(quantiles)\n",
    "\n",
    "    # Generate random samples from the normal distribution\n",
    "    samples = norm.rvs(loc=mn, scale=std, size=len(df))\n",
    "    \n",
    "    labels[\"high \" + col] = [quantiles[1], max]\n",
    "    labels[\"medium \" + col] = [quantiles[0], quantiles[1]]\n",
    "    labels[\"low \" + col] = [min, quantiles[0]]\n",
    "\n",
    "print(labels)"
   ]
  },
  {
   "cell_type": "code",
   "execution_count": 7,
   "id": "53cb754a-76d6-498d-ab17-a5409ba8b9ad",
   "metadata": {},
   "outputs": [],
   "source": [
    "# modified_labels = {}\n",
    "# # Loop through the specified columns\n",
    "# for col in df.columns[22:]:\n",
    "#     # Calculate mean and standard deviation\n",
    "#     mn = df[col].mean()\n",
    "#     std = df[col].std()\n",
    "#     min = df[col].min()\n",
    "#     max = df[col].max()\n",
    "#     quantiles = norm.ppf([0.33333, 0.66666], loc=mn, scale=std)\n",
    "\n",
    "#     print(quantiles)\n",
    "\n",
    "#     # Generate random samples from the normal distribution\n",
    "#     samples = norm.rvs(loc=mn, scale=std, size=len(df))\n",
    "    \n",
    "#     modified_labels[\"high \" + col] = [mn + quantiles[1], max]\n",
    "#     modified_labels[\"medium \" + col] = [quantiles[0], quantiles[1]]\n",
    "#     modified_labels[\"low \" + col] = [min, quantiles[0]]\n",
    "    \n",
    "#     # Create a figure and axis for the plot\n",
    "#     fig, ax = plt.subplots(figsize=(8, 6))\n",
    "\n",
    "#     # Plot the histogram of the generated samples\n",
    "#     ax.hist(samples, bins=30, density=True, alpha=0.6, color='blue', label='Generated Samples')\n",
    "\n",
    "#     # Plot the theoretical PDF\n",
    "#     x = np.linspace(mn - 3 * std, mn + 3 * std, 1000)  # Range for the PDF\n",
    "#     pdf = norm.pdf(x, loc=mn, scale=std)  # Calculate the PDF\n",
    "#     ax.plot(x, pdf, 'r-', lw=2, label='Theoretical PDF')\n",
    "\n",
    "#     # Add labels and title\n",
    "#     ax.set_xlabel(col)\n",
    "#     ax.set_ylabel('Density')\n",
    "#     ax.set_title(f'Distribution of {col} (Mean = {mn:.2f}, Std = {std:.2f})')\n",
    "#     ax.legend()\n",
    "\n",
    "#     # Show the plot\n",
    "#     plt.show()\n",
    "\n",
    "# print(modified_labels.keys())"
   ]
  },
  {
   "cell_type": "code",
   "execution_count": 27,
   "id": "a9396466-dbbf-4b86-9a99-0d451159c60a",
   "metadata": {},
   "outputs": [
    {
     "name": "stdout",
     "output_type": "stream",
     "text": [
      "{'high popularity': [42.06213858625163, 100], 'medium popularity': [24.336805205185797, 42.06213858625163], 'low popularity': [0, 24.336805205185797], 'high duration_ms': [277791.1256366565, 5237295], 'medium duration_ms': [180494.499204635, 277791.1256366565], 'low duration_ms': [8586, 180494.499204635], 'high danceability': [0.6382691939772152, 0.985], 'medium danceability': [0.48605865656399494, 0.6382691939772152], 'low danceability': [0.0, 0.48605865656399494], 'high energy': [0.7449811392830035, 1.0], 'medium energy': [0.5239287468845211, 0.7449811392830035], 'low energy': [0.0, 0.5239287468845211], 'high loudness': [-6.2500393083862695, 4.532], 'medium loudness': [-10.748091817015506, -6.2500393083862695], 'low loudness': [-49.531, -10.748091817015506], 'high speechiness': [0.13623204572910647, 0.965], 'medium speechiness': [0.03864950564260645, 0.13623204572910647], 'low speechiness': [0.0, 0.03864950564260645], 'high acousticness': [0.4740026692392782, 0.996], 'medium acousticness': [0.18255796568392224, 0.4740026692392782], 'low acousticness': [0.0, 0.18255796568392224], 'high instrumentalness': [0.31290016148271904, 1.0], 'medium instrumentalness': [0.03392167416932562, 0.31290016148271904], 'low instrumentalness': [0.0, 0.03392167416932562], 'high liveness': [0.30090977169984284, 1.0], 'medium liveness': [0.1330270772625678, 0.30090977169984284], 'low liveness': [0.0, 0.1330270772625678], 'high valence': [0.5826921205040139, 0.995], 'medium valence': [0.35624952525278547, 0.5826921205040139], 'low valence': [0.0, 0.35624952525278547], 'high tempo': [135.03007628967543, 243.372], 'medium tempo': [109.08536385767847, 135.03007628967543], 'low tempo': [0.0, 109.08536385767847], 'german': None, 'club': None, 'minimal-techno': None, 'hip-hop': None, 'comedy': None, 'chill': None, 'soul': None, 'ska': None, 'punk-rock': None, 'bluegrass': None, 'happy': None, 'drum-and-bass': None, 'idm': None, 'alternative': None, 'rock': None, 'alt-rock': None, 'emo': None, 'sad': None, 'honky-tonk': None, 'industrial': None, 'j-dance': None, 'grindcore': None, 'french': None, 'world-music': None, 'hard-rock': None, 'pagode': None, 'forro': None, 'sertanejo': None, 'j-rock': None, 'turkish': None, 'j-pop': None, 'jazz': None, 'indian': None, 'children': None, 'power-pop': None, 'blues': None, 'romance': None, 'study': None, 'funk': None, 'metal': None, 'afrobeat': None, 'black-metal': None, 'grunge': None, 'opera': None, 'show-tunes': None, 'heavy-metal': None, 'k-pop': None, 'progressive-house': None, 'acoustic': None, 'anime': None, 'ambient': None, 'dubstep': None, 'iranian': None, 'songwriter': None, 'singer-songwriter': None, 'synth-pop': None, 'chicago-house': None, 'detroit-techno': None, 'punk': None, 'kids': None, 'disco': None, 'pop-film': None, 'gospel': None, 'brazil': None, 'mandopop': None, 'swedish': None, 'tango': None, 'reggae': None, 'latin': None, 'latino': None, 'reggaeton': None, 'piano': None, 'spanish': None, 'salsa': None, 'samba': None, 'electronic': None, 'goth': None, 'dance': None, 'malay': None, 'death-metal': None, 'trance': None, 'indie': None, 'indie-pop': None, 'country': None, 'hardstyle': None, 'folk': None, 'mpb': None, 'electro': None, 'disney': None, 'rockabilly': None, 'j-idol': None, 'hardcore': None, 'british': None, 'psych-rock': None, 'guitar': None, 'dub': None, 'deep-house': None, 'groove': None, 'rock-n-roll': None, 'r-n-b': None, 'house': None, 'metalcore': None, 'dancehall': None, 'trip-hop': None, 'party': None, 'breakbeat': None, 'sleep': None, 'garage': None, 'techno': None, 'classical': None, 'cantopop': None, 'edm': None, 'pop': None, 'new-age': None}\n"
     ]
    }
   ],
   "source": [
    "for index, rows in df.iterrows():\n",
    "    curr = rows[\"track_genre\"].split(\",\")\n",
    "    for gen in curr:\n",
    "        if gen not in labels:\n",
    "            labels[gen] = None\n",
    "\n",
    "print(labels)"
   ]
  },
  {
   "cell_type": "code",
   "execution_count": 9,
   "id": "828aa338-e4bd-4381-872b-9dab8537dfcd",
   "metadata": {},
   "outputs": [],
   "source": [
    "# text = \"I want songs that are sad\"\n",
    "# classes_verbalized = list(labels.keys())\n",
    "# zeroshot_classifier = pipeline(\"zero-shot-classification\", model=\"MoritzLaurer/deberta-v3-large-zeroshot-v2.0\")  # change the model identifier here\n",
    "# output = zeroshot_classifier(text, classes_verbalized, multi_label=True)\n",
    "# print(output)\n",
    "# #MoritzLaurer/ModernBERT-large-zeroshot-v2.0\n",
    "# #MoritzLaurer/deberta-v3-large-zeroshot-v2.0"
   ]
  },
  {
   "cell_type": "code",
   "execution_count": 10,
   "id": "87964ef6-17ff-4823-8a51-a32f3c1363e0",
   "metadata": {},
   "outputs": [],
   "source": [
    "def generate_zsc_output(prompt):\n",
    "    classes_verbalized = list(labels.keys())\n",
    "    zeroshot_classifier = pipeline(\"zero-shot-classification\", model=\"MoritzLaurer/deberta-v3-large-zeroshot-v2.0\")\n",
    "    output = zeroshot_classifier(prompt, classes_verbalized, multi_label=True)\n",
    "    return output"
   ]
  },
  {
   "cell_type": "code",
   "execution_count": 11,
   "id": "5aa8fcee-60e3-4be6-97f1-15e3a1b6810a",
   "metadata": {},
   "outputs": [
    {
     "data": {
      "text/plain": [
       "['popularity',\n",
       " 'duration_ms',\n",
       " 'danceability',\n",
       " 'energy',\n",
       " 'loudness',\n",
       " 'speechiness',\n",
       " 'acousticness',\n",
       " 'instrumentalness',\n",
       " 'liveness',\n",
       " 'valence',\n",
       " 'tempo']"
      ]
     },
     "execution_count": 11,
     "metadata": {},
     "output_type": "execute_result"
    }
   ],
   "source": [
    "features"
   ]
  },
  {
   "cell_type": "code",
   "execution_count": 25,
   "id": "6e18ca49-3174-43d4-96c2-36940c0caab1",
   "metadata": {},
   "outputs": [
    {
     "name": "stderr",
     "output_type": "stream",
     "text": [
      "Device set to use mps:0\n"
     ]
    },
    {
     "name": "stdout",
     "output_type": "stream",
     "text": [
      "2\n",
      "low speechiness\n",
      "low duration_ms\n"
     ]
    },
    {
     "data": {
      "text/plain": [
       "52"
      ]
     },
     "execution_count": 25,
     "metadata": {},
     "output_type": "execute_result"
    }
   ],
   "source": [
    "test_playlist = [df.iloc[random.randint(0, len(df))][\"track_id\"] for i in range(100)]\n",
    "\n",
    "#use_labels = [output[\"labels\"][x] for x in range(len(output[\"labels\"])) if output[\"scores\"][x] > 0.95]\n",
    "#METHOD 1: normal --> using top three labels. if a song fits ANY of the three criteria, it is added\n",
    "#TODO: change this to work with new file format --> genre having multiple values\n",
    "\n",
    "test_input = \"I want the songs that are sad but fast\"\n",
    "output = generate_zsc_output(test_input)\n",
    "use_labels = [output[\"labels\"][x] for x in range(len(output[\"labels\"])) if output[\"scores\"][x] > 0.95]\n",
    "print(len(use_labels))\n",
    "\n",
    "final_playlist = []\n",
    "for label in use_labels:\n",
    "    print(label)\n",
    "    label_val = labels[label]\n",
    "    col = None \n",
    "    if label_val is None:\n",
    "        #if the label is a genre\n",
    "        col = \"track_genre\"\n",
    "    else:\n",
    "        #if label is any other category\n",
    "        ind = list(labels.keys()).index(label)\n",
    "        col = features[ind // 3]\n",
    "    for song_id in test_playlist:\n",
    "        row = df[df[\"track_id\"] == song_id]\n",
    "        if (col == \"track_genre\"):\n",
    "            if row[col].iloc[0] == label:\n",
    "                if song_id not in final_playlist:\n",
    "                    final_playlist.append(song_id)\n",
    "        else:\n",
    "            min = label_val[0]\n",
    "            max = label_val[1]\n",
    "            if row[col].iloc[0] <= max and row[col].iloc[0] >= min:\n",
    "                if song_id not in final_playlist:\n",
    "                    final_playlist.append(song_id)\n",
    "final_playlist\n",
    "len(final_playlist)"
   ]
  },
  {
   "cell_type": "code",
   "execution_count": 15,
   "id": "96c102a6-fbdd-4a31-b8d9-a4fefe57a757",
   "metadata": {},
   "outputs": [
    {
     "name": "stderr",
     "output_type": "stream",
     "text": [
      "Device set to use mps:0\n"
     ]
    },
    {
     "name": "stdout",
     "output_type": "stream",
     "text": [
      "['low speechiness']\n"
     ]
    },
    {
     "data": {
      "text/plain": [
       "33"
      ]
     },
     "execution_count": 15,
     "metadata": {},
     "output_type": "execute_result"
    }
   ],
   "source": [
    "test_playlist = [df.iloc[random.randint(0, len(df))][\"track_id\"] for i in range(100)]\n",
    "\n",
    "#use_labels = [output[\"labels\"][x] for x in range(len(output[\"labels\"])) if output[\"scores\"][x] > 0.95]\n",
    "#METHOD 2: only songs that fit ALL criteria\n",
    "test_input = \"I want the songs that are sad but fast\"\n",
    "output = generate_zsc_output(test_input)\n",
    "use_labels = [output[\"labels\"][x] for x in range(len(output[\"labels\"])) if output[\"scores\"][x] > 0.97]\n",
    "print(use_labels)\n",
    "final_playlist = []\n",
    "for song_id in test_playlist:\n",
    "    row = df[df[\"track_id\"] == song_id]\n",
    "    satisfies_all = True\n",
    "    for label in use_labels:\n",
    "        label_val = labels[label]\n",
    "        if label_val is None:\n",
    "            if row[\"track_genre\"].iloc[0] != label:\n",
    "                satisfies_all = False\n",
    "                break\n",
    "        else:\n",
    "            ind = list(labels.keys()).index(label)\n",
    "            col = features[ind // 3]\n",
    "            min = label_val[0]\n",
    "            max = label_val[1]\n",
    "            if not (row[col].iloc[0] <= max and row[col].iloc[0] >= min):\n",
    "                satisfies_all = False\n",
    "                break\n",
    "    if satisfies_all:\n",
    "        final_playlist.append(song_id)\n",
    "            \n",
    "final_playlist\n",
    "len(final_playlist)"
   ]
  },
  {
   "cell_type": "code",
   "execution_count": 17,
   "id": "7fef3db1-9c82-408f-9597-336edbe524f5",
   "metadata": {},
   "outputs": [
    {
     "name": "stdout",
     "output_type": "stream",
     "text": [
      "I want the songs that are sad but fast\n"
     ]
    },
    {
     "name": "stderr",
     "output_type": "stream",
     "text": [
      "Device set to use mps:0\n"
     ]
    },
    {
     "ename": "NameError",
     "evalue": "name 'classes_verbalized' is not defined",
     "output_type": "error",
     "traceback": [
      "\u001b[0;31m---------------------------------------------------------------------------\u001b[0m",
      "\u001b[0;31mNameError\u001b[0m                                 Traceback (most recent call last)",
      "Cell \u001b[0;32mIn[17], line 15\u001b[0m\n\u001b[1;32m     12\u001b[0m         \u001b[38;5;66;03m#for song in test_playlist:\u001b[39;00m\n\u001b[1;32m     13\u001b[0m         \u001b[38;5;28mprint\u001b[39m(label_type)   \n\u001b[0;32m---> 15\u001b[0m generate_subplaylist(test_playlist, test_input)\n",
      "Cell \u001b[0;32mIn[17], line 6\u001b[0m, in \u001b[0;36mgenerate_subplaylist\u001b[0;34m(playlist, prompt)\u001b[0m\n\u001b[1;32m      4\u001b[0m \u001b[38;5;28mprint\u001b[39m(prompt)\n\u001b[1;32m      5\u001b[0m zsc \u001b[38;5;241m=\u001b[39m pipeline(\u001b[38;5;124m\"\u001b[39m\u001b[38;5;124mzero-shot-classification\u001b[39m\u001b[38;5;124m\"\u001b[39m, model\u001b[38;5;241m=\u001b[39mmod)\n\u001b[0;32m----> 6\u001b[0m output \u001b[38;5;241m=\u001b[39m zsc(prompt, classes_verbalized, multi_label\u001b[38;5;241m=\u001b[39m\u001b[38;5;28;01mTrue\u001b[39;00m)\n\u001b[1;32m      8\u001b[0m use_labels \u001b[38;5;241m=\u001b[39m [output[\u001b[38;5;124m\"\u001b[39m\u001b[38;5;124mlabels\u001b[39m\u001b[38;5;124m\"\u001b[39m][x] \u001b[38;5;28;01mfor\u001b[39;00m x \u001b[38;5;129;01min\u001b[39;00m \u001b[38;5;28mrange\u001b[39m(\u001b[38;5;28mlen\u001b[39m(output[\u001b[38;5;124m\"\u001b[39m\u001b[38;5;124mlabels\u001b[39m\u001b[38;5;124m\"\u001b[39m])) \u001b[38;5;28;01mif\u001b[39;00m output[\u001b[38;5;124m\"\u001b[39m\u001b[38;5;124mscores\u001b[39m\u001b[38;5;124m\"\u001b[39m][x] \u001b[38;5;241m>\u001b[39m \u001b[38;5;241m0.8\u001b[39m]\n\u001b[1;32m     10\u001b[0m \u001b[38;5;28;01mfor\u001b[39;00m label \u001b[38;5;129;01min\u001b[39;00m use_labels:\n",
      "\u001b[0;31mNameError\u001b[0m: name 'classes_verbalized' is not defined"
     ]
    }
   ],
   "source": [
    "mod = \"MoritzLaurer/deberta-v3-large-zeroshot-v2.0\"\n",
    "def generate_subplaylist(playlist, prompt):\n",
    "    final_playlist = []\n",
    "    print(prompt)\n",
    "    zsc = pipeline(\"zero-shot-classification\", model=mod)\n",
    "    output = zsc(prompt, classes_verbalized, multi_label=True)\n",
    "\n",
    "    use_labels = [output[\"labels\"][x] for x in range(len(output[\"labels\"])) if output[\"scores\"][x] > 0.8]\n",
    "\n",
    "    for label in use_labels:\n",
    "        label_type = type(labels[label])\n",
    "        #for song in test_playlist:\n",
    "        print(label_type)   \n",
    "\n",
    "generate_subplaylist(test_playlist, test_input)\n"
   ]
  },
  {
   "cell_type": "code",
   "execution_count": 23,
   "id": "9057b6e8-afe3-490a-8d7f-c9727b17de0d",
   "metadata": {},
   "outputs": [
    {
     "name": "stderr",
     "output_type": "stream",
     "text": [
      "Device set to use mps:0\n"
     ]
    },
    {
     "name": "stdout",
     "output_type": "stream",
     "text": [
      "{'sequence': 'I want the songs that are happy', 'labels': ['low speechiness', 'high valence', 'low tempo', 'singer-songwriter', 'low duration_ms', 'pop', 'songwriter', 'low loudness', 'low instrumentalness', 'low popularity', 'happy', 'medium loudness', 'medium duration_ms', 'folk', 'medium popularity', 'medium speechiness', 'medium liveness', 'idm', 'medium tempo', 'medium instrumentalness', 'chill', 'pop-film', 'medium acousticness', 'low acousticness', 'high duration_ms', 'cantopop', 'high popularity', 'low energy', 'medium danceability', 'mandopop', 'medium energy', 'edm', 'low liveness', 'r-n-b', 'high energy', 'high liveness', 'children', 'indie-pop', 'rock-n-roll', 'kids', 'low danceability', 'comedy', 'show-tunes', 'mpb', 'medium valence', 'alternative', 'groove', 'disco', 'synth-pop', 'power-pop', 'high tempo', 'indie', 'rock', 'k-pop', 'club', 'reggae', 'hip-hop', 'high loudness', 'soul', 'sertanejo', 'reggaeton', 'disney', 'pagode', 'high acousticness', 'high danceability', 'honky-tonk', 'guitar', 'alt-rock', 'romance', 'world-music', 'party', 'acoustic', 'funk', 'dub', 'forro', 'new-age', 'electronic', 'low valence', 'ska', 'j-rock', 'high instrumentalness', 'country', 'house', 'dancehall', 'j-pop', 'rockabilly', 'j-idol', 'high speechiness', 'piano', 'progressive-house', 'psych-rock', 'j-dance', 'trip-hop', 'chicago-house', 'garage', 'malay', 'bluegrass', 'samba', 'opera', 'latin', 'afrobeat', 'ambient', 'study', 'jazz', 'detroit-techno', 'anime', 'british', 'spanish', 'trance', 'brazil', 'indian', 'classical', 'latino', 'blues', 'deep-house', 'electro', 'turkish', 'dance', 'minimal-techno', 'techno', 'emo', 'iranian', 'salsa', 'gospel', 'tango', 'drum-and-bass', 'swedish', 'french', 'hardstyle', 'german', 'hard-rock', 'sad', 'grunge', 'hardcore', 'goth', 'punk', 'metalcore', 'heavy-metal', 'punk-rock', 'industrial', 'breakbeat', 'metal', 'dubstep', 'death-metal', 'sleep', 'black-metal', 'grindcore'], 'scores': [0.9828197360038757, 0.9193932414054871, 0.897149920463562, 0.8885449171066284, 0.8757129311561584, 0.8318049311637878, 0.8313102126121521, 0.7999783158302307, 0.7780712842941284, 0.7667189836502075, 0.714248776435852, 0.6313640475273132, 0.5959170460700989, 0.5820181965827942, 0.5685297250747681, 0.48952680826187134, 0.481221467256546, 0.47071781754493713, 0.32379233837127686, 0.3118498623371124, 0.30537110567092896, 0.27563560009002686, 0.27129611372947693, 0.24019421637058258, 0.22771422564983368, 0.2031392902135849, 0.20189683139324188, 0.1820746213197708, 0.16256403923034668, 0.16216833889484406, 0.15667730569839478, 0.14643888175487518, 0.12904353439807892, 0.128366619348526, 0.09535562992095947, 0.08455720543861389, 0.08028412610292435, 0.07807878404855728, 0.07372502237558365, 0.07290280610322952, 0.0639614462852478, 0.05014337971806526, 0.04888066276907921, 0.03859943151473999, 0.03768736496567726, 0.03698388487100601, 0.03443967550992966, 0.03408057615160942, 0.03377841040492058, 0.0337177999317646, 0.03295374661684036, 0.030470028519630432, 0.027363833039999008, 0.024616960436105728, 0.023307060822844505, 0.021625107154250145, 0.02107921801507473, 0.020935239270329475, 0.019246160984039307, 0.019119614735245705, 0.018605373799800873, 0.017532436177134514, 0.01675930805504322, 0.016516810283064842, 0.016421599313616753, 0.01616998389363289, 0.01598820835351944, 0.015802349895238876, 0.014678952284157276, 0.013726521283388138, 0.013413740321993828, 0.013404201716184616, 0.01303593534976244, 0.01199354138225317, 0.011738537810742855, 0.011264996603131294, 0.010305071249604225, 0.010266942903399467, 0.010114360600709915, 0.009465709328651428, 0.009388281032443047, 0.008847902528941631, 0.008679703809320927, 0.008648434653878212, 0.008486841805279255, 0.008122553117573261, 0.00799693912267685, 0.0070482781156897545, 0.006875668186694384, 0.006515789777040482, 0.006218558643013239, 0.006005367264151573, 0.0056571392342448235, 0.004883535671979189, 0.0045708403922617435, 0.003544640727341175, 0.0034040266182273626, 0.0031248389277607203, 0.0028517076279968023, 0.00285150995478034, 0.0025884031783789396, 0.002545755822211504, 0.0024339461233466864, 0.0024165003560483456, 0.002362679224461317, 0.0022899687755852938, 0.002191324485465884, 0.002190528204664588, 0.0020667817443609238, 0.001896262401714921, 0.001835572998970747, 0.0017518032109364867, 0.001731640426442027, 0.0017127598403021693, 0.001426151255145669, 0.001415157224982977, 0.0012785927392542362, 0.0012771369656547904, 0.001203114283271134, 0.0011998467380180955, 0.0011974892113357782, 0.0011142108123749495, 0.0010934494202956557, 0.001076743472367525, 0.0010461233323439956, 0.0008883331320248544, 0.00082080700667575, 0.0007585809798911214, 0.0007510420400649309, 0.00072964106220752, 0.0006723537808284163, 0.0006621632492169738, 0.00041025588870979846, 0.0002879875828512013, 0.0002443796838633716, 0.00023200309078674763, 0.00022611442545894533, 0.00020944538118783385, 0.00017419700452592224, 0.00013562492677010596, 0.00012315869389567524, 0.00010544771066633984, 8.964120934251696e-05, 8.769537089392543e-05, 8.272624108940363e-05, 7.533917960245162e-05, 7.085353718139231e-05]}\n",
      "['low speechiness', 'high valence']\n"
     ]
    }
   ],
   "source": [
    "test_input = \"I want the songs that are happy\"\n",
    "output = generate_zsc_output(test_input)\n",
    "print(output)\n",
    "print([output[\"labels\"][x] for x in range(len(output[\"labels\"])) if output[\"scores\"][x] > 0.90])"
   ]
  },
  {
   "cell_type": "code",
   "execution_count": 21,
   "id": "6fda4183-f9f2-4ef4-9df4-0a288d38540e",
   "metadata": {},
   "outputs": [
    {
     "name": "stderr",
     "output_type": "stream",
     "text": [
      "Device set to use mps:0\n"
     ]
    },
    {
     "name": "stdout",
     "output_type": "stream",
     "text": [
      "{'sequence': 'I want the songs that are happy and fast', 'labels': ['low speechiness', 'low duration_ms', 'high tempo', 'pop', 'high energy', 'high valence', 'happy', 'singer-songwriter', 'low acousticness', 'idm', 'high duration_ms', 'rock-n-roll', 'rock', 'low popularity', 'power-pop', 'high danceability', 'medium popularity', 'pop-film', 'songwriter', 'medium loudness', 'medium speechiness', 'low loudness', 'cantopop', 'low instrumentalness', 'high liveness', 'medium liveness', 'high popularity', 'r-n-b', 'mandopop', 'edm', 'hard-rock', 'children', 'kids', 'indie-pop', 'hip-hop', 'club', 'medium instrumentalness', 'high loudness', 'medium acousticness', 'synth-pop', 'disco', 'folk', 'comedy', 'hardstyle', 'party', 'mpb', 'low liveness', 'honky-tonk', 'medium danceability', 'medium valence', 'funk', 'show-tunes', 'k-pop', 'alt-rock', 'high instrumentalness', 'electro', 'medium duration_ms', 'groove', 'electronic', 'alternative', 'rockabilly', 'pagode', 'guitar', 'drum-and-bass', 'techno', 'low valence', 'garage', 'j-rock', 'j-pop', 'punk-rock', 'forro', 'dancehall', 'reggae', 'punk', 'disney', 'reggaeton', 'j-dance', 'dub', 'detroit-techno', 'psych-rock', 'sertanejo', 'ska', 'heavy-metal', 'high speechiness', 'breakbeat', 'medium energy', 'indie', 'j-idol', 'progressive-house', 'piano', 'minimal-techno', 'chill', 'acoustic', 'country', 'malay', 'trance', 'romance', 'high acousticness', 'dance', 'afrobeat', 'house', 'chicago-house', 'world-music', 'hardcore', 'study', 'metalcore', 'soul', 'grunge', 'medium tempo', 'latin', 'brazil', 'low danceability', 'spanish', 'low tempo', 'metal', 'dubstep', 'indian', 'emo', 'british', 'latino', 'jazz', 'anime', 'samba', 'turkish', 'new-age', 'swedish', 'iranian', 'salsa', 'low energy', 'trip-hop', 'french', 'german', 'blues', 'bluegrass', 'death-metal', 'ambient', 'grindcore', 'gospel', 'industrial', 'deep-house', 'goth', 'sad', 'black-metal', 'tango', 'opera', 'classical', 'sleep'], 'scores': [0.9804559350013733, 0.9760035872459412, 0.9738481044769287, 0.9361264109611511, 0.9043478965759277, 0.8981633186340332, 0.8959453105926514, 0.8093132972717285, 0.7500246167182922, 0.7484884262084961, 0.6701264381408691, 0.6491441130638123, 0.6337664723396301, 0.6260644793510437, 0.5891749262809753, 0.5635967254638672, 0.5629991888999939, 0.5508115887641907, 0.5196080207824707, 0.4204969108104706, 0.39217862486839294, 0.39074772596359253, 0.3664512634277344, 0.3632896840572357, 0.3471691310405731, 0.30513420701026917, 0.27933987975120544, 0.2539902925491333, 0.1907670795917511, 0.13725829124450684, 0.13204586505889893, 0.1292649805545807, 0.1240270659327507, 0.1219775602221489, 0.11992596089839935, 0.11990933120250702, 0.11886156350374222, 0.11532585322856903, 0.10723686963319778, 0.09653127193450928, 0.0757831260561943, 0.07266131788492203, 0.06968803703784943, 0.06464000046253204, 0.06382913142442703, 0.060971882194280624, 0.05861334875226021, 0.05440989136695862, 0.0536419041454792, 0.05362577736377716, 0.05287650600075722, 0.051968954503536224, 0.05052913352847099, 0.04217643290758133, 0.03665224462747574, 0.033955756574869156, 0.03201024979352951, 0.030632996931672096, 0.030202610418200493, 0.029491890221834183, 0.029056327417492867, 0.027974024415016174, 0.024301214143633842, 0.021365797147154808, 0.020624708384275436, 0.019921885803341866, 0.019915247336030006, 0.019902199506759644, 0.018236059695482254, 0.018107945099473, 0.017795903608202934, 0.016740690916776657, 0.015750419348478317, 0.015181034803390503, 0.014814894646406174, 0.014611399732530117, 0.014362487941980362, 0.013645115308463573, 0.01217127125710249, 0.011846247129142284, 0.011294873431324959, 0.011222031898796558, 0.010454831644892693, 0.00996305514127016, 0.009036622010171413, 0.008263811469078064, 0.007924297824501991, 0.00764709897339344, 0.007483913097530603, 0.007367571350187063, 0.00637449137866497, 0.005530727095901966, 0.0047627841122448444, 0.0044910539872944355, 0.0037845412734895945, 0.003727263305336237, 0.0036672805435955524, 0.0036116375122219324, 0.0032729734666645527, 0.0030396285001188517, 0.002955419709905982, 0.00289326929487288, 0.002671066904440522, 0.0025625687558203936, 0.0024330229498445988, 0.002431978704407811, 0.002425788203254342, 0.0021747988648712635, 0.0020176011603325605, 0.0018962895264849067, 0.0018328940495848656, 0.001821804093196988, 0.0017957647796720266, 0.0016969735734164715, 0.0016586031997576356, 0.001398500637151301, 0.0013549696886911988, 0.0012956609716638923, 0.0012830964988097548, 0.0012598840985447168, 0.001208061701618135, 0.0011805847752839327, 0.0011129224440082908, 0.0011091175256296992, 0.0009845626773312688, 0.0006845028838142753, 0.0006801476120017469, 0.0006570652476511896, 0.0006538538145832717, 0.0006270009907893836, 0.0006006159819662571, 0.0005902258562855422, 0.000566208444070071, 0.0005603563622571528, 0.000510451674927026, 0.0004550401645246893, 0.00038786750519648194, 0.00024733718601055443, 0.00023896283528301865, 0.00020461769599933177, 0.00019544991664588451, 0.00019130221335217357, 0.00016390897508244962, 0.00016153031901922077, 0.00015798199456185102, 0.0001281760778510943, 9.007198241306469e-05]}\n",
      "['low speechiness', 'low duration_ms', 'high tempo', 'pop']\n"
     ]
    }
   ],
   "source": [
    "test_input = \"I want the songs that are happy and fast\"\n",
    "output = generate_zsc_output(test_input)\n",
    "print(output)\n",
    "print([output[\"labels\"][x] for x in range(len(output[\"labels\"])) if output[\"scores\"][x] > 0.93])"
   ]
  },
  {
   "cell_type": "code",
   "execution_count": null,
   "id": "7e2bb337-6d3e-4aaf-a38e-b15b9bafb0cf",
   "metadata": {},
   "outputs": [],
   "source": []
  }
 ],
 "metadata": {
  "kernelspec": {
   "display_name": "Python 3 (ipykernel)",
   "language": "python",
   "name": "python3"
  },
  "language_info": {
   "codemirror_mode": {
    "name": "ipython",
    "version": 3
   },
   "file_extension": ".py",
   "mimetype": "text/x-python",
   "name": "python",
   "nbconvert_exporter": "python",
   "pygments_lexer": "ipython3",
   "version": "3.12.2"
  }
 },
 "nbformat": 4,
 "nbformat_minor": 5
}
