{
 "cells": [
  {
   "cell_type": "code",
   "execution_count": 108,
   "id": "318d2897-06c9-4428-bae1-e1230236a120",
   "metadata": {
    "scrolled": true
   },
   "outputs": [
    {
     "name": "stdout",
     "output_type": "stream",
     "text": [
      "Requirement already satisfied: transformers in /opt/anaconda3/lib/python3.12/site-packages (4.49.0)\n",
      "Requirement already satisfied: filelock in /opt/anaconda3/lib/python3.12/site-packages (from transformers) (3.13.1)\n",
      "Requirement already satisfied: huggingface-hub<1.0,>=0.26.0 in /opt/anaconda3/lib/python3.12/site-packages (from transformers) (0.29.1)\n",
      "Requirement already satisfied: numpy>=1.17 in /opt/anaconda3/lib/python3.12/site-packages (from transformers) (1.26.4)\n",
      "Requirement already satisfied: packaging>=20.0 in /opt/anaconda3/lib/python3.12/site-packages (from transformers) (23.2)\n",
      "Requirement already satisfied: pyyaml>=5.1 in /opt/anaconda3/lib/python3.12/site-packages (from transformers) (6.0.1)\n",
      "Requirement already satisfied: regex!=2019.12.17 in /opt/anaconda3/lib/python3.12/site-packages (from transformers) (2023.10.3)\n",
      "Requirement already satisfied: requests in /opt/anaconda3/lib/python3.12/site-packages (from transformers) (2.32.2)\n",
      "Requirement already satisfied: tokenizers<0.22,>=0.21 in /opt/anaconda3/lib/python3.12/site-packages (from transformers) (0.21.0)\n",
      "Requirement already satisfied: safetensors>=0.4.1 in /opt/anaconda3/lib/python3.12/site-packages (from transformers) (0.5.2)\n",
      "Requirement already satisfied: tqdm>=4.27 in /opt/anaconda3/lib/python3.12/site-packages (from transformers) (4.66.4)\n",
      "Requirement already satisfied: fsspec>=2023.5.0 in /opt/anaconda3/lib/python3.12/site-packages (from huggingface-hub<1.0,>=0.26.0->transformers) (2024.3.1)\n",
      "Requirement already satisfied: typing-extensions>=3.7.4.3 in /opt/anaconda3/lib/python3.12/site-packages (from huggingface-hub<1.0,>=0.26.0->transformers) (4.11.0)\n",
      "Requirement already satisfied: charset-normalizer<4,>=2 in /opt/anaconda3/lib/python3.12/site-packages (from requests->transformers) (2.0.4)\n",
      "Requirement already satisfied: idna<4,>=2.5 in /opt/anaconda3/lib/python3.12/site-packages (from requests->transformers) (3.7)\n",
      "Requirement already satisfied: urllib3<3,>=1.21.1 in /opt/anaconda3/lib/python3.12/site-packages (from requests->transformers) (2.2.2)\n",
      "Requirement already satisfied: certifi>=2017.4.17 in /opt/anaconda3/lib/python3.12/site-packages (from requests->transformers) (2024.8.30)\n",
      "Note: you may need to restart the kernel to use updated packages.\n"
     ]
    }
   ],
   "source": [
    "%pip install transformers"
   ]
  },
  {
   "cell_type": "code",
   "execution_count": 140,
   "id": "b7562e4e-0fdb-4551-8abe-b28742338b08",
   "metadata": {},
   "outputs": [],
   "source": [
    "from transformers import pipeline\n",
    "import random\n",
    "import pandas as pd"
   ]
  },
  {
   "cell_type": "code",
   "execution_count": 142,
   "id": "c772ce9a-fc2a-4ac4-ab0f-994d55d59ce3",
   "metadata": {},
   "outputs": [],
   "source": [
    "df = pd.read_csv(\"data/dataset.csv\")\n",
    "labels = {\n",
    "    # Valence\n",
    "    \"happy\": [0.7, 1.0],\n",
    "    \"neutral mood\": [0.3, 0.7],\n",
    "    \"sad\": [0.0, 0.3],\n",
    "\n",
    "    # Popularity\n",
    "    \"high popularity\": [0.7, 1.0],\n",
    "    \"mid popularity\": [0.3, 0.7],\n",
    "    \"low popularity\": [0.0, 0.3],\n",
    "\n",
    "    # Duration (normalized to [0.0, 1.0])\n",
    "    \"long duration\": [0.7, 1.0],\n",
    "    \"medium duration\": [0.3, 0.7],\n",
    "    \"short duration\": [0.0, 0.3],\n",
    "\n",
    "    # Danceability\n",
    "    \"high danceability\": [0.7, 1.0],\n",
    "    \"mid danceability\": [0.3, 0.7],\n",
    "    \"low danceability\": [0.0, 0.3],\n",
    "\n",
    "    # Energy\n",
    "    \"high energy\": [0.7, 1.0],\n",
    "    \"mid energy\": [0.3, 0.7],\n",
    "    \"low energy\": [0.0, 0.3],\n",
    "\n",
    "    # Loudness (normalized to [0.0, 1.0])\n",
    "    \"high loudness\": [0.7, 1.0],\n",
    "    \"mid loudness\": [0.3, 0.7],\n",
    "    \"low loudness\": [0.0, 0.3],\n",
    "\n",
    "    # Speechiness\n",
    "    \"high speechiness\": [0.7, 1.0],\n",
    "    \"mid speechiness\": [0.3, 0.7],\n",
    "    \"low speechiness\": [0.0, 0.3],\n",
    "\n",
    "    # Acousticness\n",
    "    \"high acousticness\": [0.7, 1.0],\n",
    "    \"mid acousticness\": [0.3, 0.7],\n",
    "    \"low acousticness\": [0.0, 0.3],\n",
    "\n",
    "    # Instrumentalness\n",
    "    \"high instrumentalness\": [0.7, 1.0],\n",
    "    \"mid instrumentalness\": [0.3, 0.7],\n",
    "    \"low instrumentalness\": [0.0, 0.3],\n",
    "\n",
    "    # Liveness\n",
    "    \"high liveness\": [0.7, 1.0],\n",
    "    \"mid liveness\": [0.3, 0.7],\n",
    "    \"low liveness\": [0.0, 0.3],\n",
    "\n",
    "    # Tempo (normalized to [0.0, 1.0])\n",
    "    \"high tempo\": [0.7, 1.0],\n",
    "    \"mid tempo\": [0.3, 0.7],\n",
    "    \"low tempo\": [0.0, 0.3],\n",
    "}"
   ]
  },
  {
   "cell_type": "code",
   "execution_count": 144,
   "id": "4c731b86-5974-4a78-aa46-bbcad77f8b3f",
   "metadata": {},
   "outputs": [
    {
     "name": "stdout",
     "output_type": "stream",
     "text": [
      "   Unnamed: 0                track_id                 artists  \\\n",
      "0           0  5SuOikwiRyPMVoIQDJUgSV             Gen Hoshino   \n",
      "1           1  4qPNDBW1i3p13qLCt0Ki3A            Ben Woodward   \n",
      "2           2  1iJBSr7s7jYXzM8EGcbK5b  Ingrid Michaelson;ZAYN   \n",
      "3           3  6lfxq3CG4xtTiEg7opyCyx            Kina Grannis   \n",
      "4           4  5vjLSffimiIP26QG5WcN2K        Chord Overstreet   \n",
      "\n",
      "                                          album_name  \\\n",
      "0                                             Comedy   \n",
      "1                                   Ghost (Acoustic)   \n",
      "2                                     To Begin Again   \n",
      "3  Crazy Rich Asians (Original Motion Picture Sou...   \n",
      "4                                            Hold On   \n",
      "\n",
      "                   track_name  popularity  duration_ms  explicit  \\\n",
      "0                      Comedy          73       230666     False   \n",
      "1            Ghost - Acoustic          55       149610     False   \n",
      "2              To Begin Again          57       210826     False   \n",
      "3  Can't Help Falling In Love          71       201933     False   \n",
      "4                     Hold On          82       198853     False   \n",
      "\n",
      "   danceability  energy  ...  popularity_normalized  duration_ms_normalized  \\\n",
      "0         0.676  0.4610  ...                   0.73                0.042473   \n",
      "1         0.420  0.1660  ...                   0.55                0.026971   \n",
      "2         0.438  0.3590  ...                   0.57                0.038679   \n",
      "3         0.266  0.0596  ...                   0.71                0.036978   \n",
      "4         0.618  0.4430  ...                   0.82                0.036389   \n",
      "\n",
      "   danceability_normalized  energy_normalized  loudness_normalized  \\\n",
      "0                 0.686294             0.4610             0.791392   \n",
      "1                 0.426396             0.1660             0.597377   \n",
      "2                 0.444670             0.3590             0.736123   \n",
      "3                 0.270051             0.0596             0.573701   \n",
      "4                 0.627411             0.4430             0.737103   \n",
      "\n",
      "   speechiness_normalized  acousticness_normalized  \\\n",
      "0                0.148187                 0.032329   \n",
      "1                0.079067                 0.927711   \n",
      "2                0.057720                 0.210843   \n",
      "3                0.037617                 0.908635   \n",
      "4                0.054508                 0.470884   \n",
      "\n",
      "   instrumentalness_normalized  liveness_normalized  tempo_normalized  \n",
      "0                     0.000001               0.3580          0.361245  \n",
      "1                     0.000006               0.1010          0.318397  \n",
      "2                     0.000000               0.1170          0.313643  \n",
      "3                     0.000071               0.1320          0.746758  \n",
      "4                     0.000000               0.0829          0.492863  \n",
      "\n",
      "[5 rows x 32 columns]\n"
     ]
    }
   ],
   "source": [
    "# Define min and max values for each feature (adjust based on your dataset)\n",
    "feature_ranges = {\n",
    "    \"valence\": (0.0, 1.0),\n",
    "    \"popularity\": (0, 100),\n",
    "    \"duration_ms\": (8586, 5237295),  # Adjust based on your dataset\n",
    "    \"danceability\": (0.0, 0.985),\n",
    "    \"energy\": (0.0, 1.0),\n",
    "    \"loudness\": (-49.531, 4.532),  # Loudness ranges from -60 dB to 0 dB\n",
    "    \"speechiness\": (0.0, 0.965),\n",
    "    \"acousticness\": (0.0, 0.996),\n",
    "    \"instrumentalness\": (0.0, 1.0),\n",
    "    \"liveness\": (0.0, 1.0),\n",
    "    \"tempo\": (0, 243.372),  # Tempo ranges from 0 BPM to 250 BPM\n",
    "}\n",
    "\n",
    "# Normalize features to [0.0, 1.0]\n",
    "for feature, (min_val, max_val) in feature_ranges.items():\n",
    "    df[f\"{feature}_normalized\"] = (df[feature] - min_val) / (max_val - min_val)\n",
    "\n",
    "# Display the updated dataset\n",
    "print(df.head())"
   ]
  },
  {
   "cell_type": "code",
   "execution_count": 162,
   "id": "a9396466-dbbf-4b86-9a99-0d451159c60a",
   "metadata": {},
   "outputs": [
    {
     "name": "stdout",
     "output_type": "stream",
     "text": [
      "dict_keys(['happy', 'neutral mood', 'sad', 'high popularity', 'mid popularity', 'low popularity', 'long duration', 'medium duration', 'short duration', 'high danceability', 'mid danceability', 'low danceability', 'high energy', 'mid energy', 'low energy', 'high loudness', 'mid loudness', 'low loudness', 'high speechiness', 'mid speechiness', 'low speechiness', 'high acousticness', 'mid acousticness', 'low acousticness', 'high instrumentalness', 'mid instrumentalness', 'low instrumentalness', 'high liveness', 'mid liveness', 'low liveness', 'high tempo', 'mid tempo', 'low tempo', 'acoustic', 'afrobeat', 'alt-rock', 'alternative', 'ambient', 'anime', 'black-metal', 'bluegrass', 'blues', 'brazil', 'breakbeat', 'british', 'cantopop', 'chicago-house', 'children', 'chill', 'classical', 'club', 'comedy', 'country', 'dance', 'dancehall', 'death-metal', 'deep-house', 'detroit-techno', 'disco', 'disney', 'drum-and-bass', 'dub', 'dubstep', 'edm', 'electro', 'electronic', 'emo', 'folk', 'forro', 'french', 'funk', 'garage', 'german', 'gospel', 'goth', 'grindcore', 'groove', 'grunge', 'guitar', 'hard-rock', 'hardcore', 'hardstyle', 'heavy-metal', 'hip-hop', 'honky-tonk', 'house', 'idm', 'indian', 'indie-pop', 'indie', 'industrial', 'iranian', 'j-dance', 'j-idol', 'j-pop', 'j-rock', 'jazz', 'k-pop', 'kids', 'latin', 'latino', 'malay', 'mandopop', 'metal', 'metalcore', 'minimal-techno', 'mpb', 'new-age', 'opera', 'pagode', 'party', 'piano', 'pop-film', 'pop', 'power-pop', 'progressive-house', 'psych-rock', 'punk-rock', 'punk', 'r-n-b', 'reggae', 'reggaeton', 'rock-n-roll', 'rock', 'rockabilly', 'romance', 'salsa', 'samba', 'sertanejo', 'show-tunes', 'singer-songwriter', 'ska', 'sleep', 'songwriter', 'soul', 'spanish', 'study', 'swedish', 'synth-pop', 'tango', 'techno', 'trance', 'trip-hop', 'turkish', 'world-music'])\n"
     ]
    }
   ],
   "source": [
    "for index, rows in df.iterrows():\n",
    "    if rows[\"track_genre\"] not in labels:\n",
    "        labels[rows[\"track_genre\"]] = None\n",
    "\n",
    "print(labels.keys())"
   ]
  },
  {
   "cell_type": "code",
   "execution_count": 170,
   "id": "828aa338-e4bd-4381-872b-9dab8537dfcd",
   "metadata": {},
   "outputs": [
    {
     "name": "stderr",
     "output_type": "stream",
     "text": [
      "Device set to use mps:0\n"
     ]
    },
    {
     "name": "stdout",
     "output_type": "stream",
     "text": [
      "{'sequence': 'I want songs that are happy', 'labels': ['low speechiness', 'songwriter', 'low tempo', 'singer-songwriter', 'pop', 'happy', 'short duration', 'low loudness', 'low instrumentalness', 'low popularity', 'mid loudness', 'folk', 'mid popularity', 'high energy', 'medium duration', 'idm', 'mid speechiness', 'pop-film', 'low acousticness', 'chill', 'high popularity', 'high liveness', 'r-n-b', 'cantopop', 'mandopop', 'edm', 'low energy', 'kids', 'children', 'mid tempo', 'indie-pop', 'comedy', 'mid acousticness', 'rock-n-roll', 'mpb', 'show-tunes', 'synth-pop', 'mid instrumentalness', 'mid energy', 'disco', 'mid liveness', 'guitar', 'power-pop', 'k-pop', 'indie', 'rock', 'high tempo', 'party', 'alternative', 'low danceability', 'high speechiness', 'pagode', 'high acousticness', 'acoustic', 'new-age', 'hip-hop', 'club', 'high loudness', 'low liveness', 'mid danceability', 'reggae', 'groove', 'honky-tonk', 'alt-rock', 'long duration', 'forro', 'dub', 'funk', 'j-pop', 'disney', 'j-rock', 'world-music', 'high danceability', 'piano', 'country', 'progressive-house', 'soul', 'ska', 'house', 'electronic', 'high instrumentalness', 'psych-rock', 'reggaeton', 'j-idol', 'rockabilly', 'sertanejo', 'j-dance', 'dancehall', 'garage', 'trip-hop', 'romance', 'chicago-house', 'samba', 'bluegrass', 'malay', 'anime', 'british', 'opera', 'jazz', 'ambient', 'afrobeat', 'study', 'trance', 'latin', 'spanish', 'detroit-techno', 'neutral mood', 'brazil', 'dance', 'latino', 'indian', 'salsa', 'techno', 'turkish', 'tango', 'classical', 'blues', 'swedish', 'iranian', 'german', 'electro', 'deep-house', 'french', 'hardstyle', 'gospel', 'hard-rock', 'minimal-techno', 'drum-and-bass', 'sad', 'emo', 'hardcore', 'grunge', 'goth', 'punk', 'heavy-metal', 'punk-rock', 'metalcore', 'industrial', 'metal', 'breakbeat', 'death-metal', 'dubstep', 'black-metal', 'sleep', 'grindcore'], 'scores': [0.9276187419891357, 0.918658435344696, 0.9005460739135742, 0.8971670866012573, 0.8555206656455994, 0.8543536067008972, 0.813933253288269, 0.7039617300033569, 0.6751258969306946, 0.6501473784446716, 0.5817548632621765, 0.543704092502594, 0.41217097640037537, 0.371934711933136, 0.3523474335670471, 0.3426177501678467, 0.3384140133857727, 0.3274775743484497, 0.3271538019180298, 0.2758575975894928, 0.24992722272872925, 0.1873409003019333, 0.18194465339183807, 0.16666993498802185, 0.15926484763622284, 0.15673960745334625, 0.11637473851442337, 0.11625933647155762, 0.10889163613319397, 0.1025952473282814, 0.09735026955604553, 0.09054411202669144, 0.07897388190031052, 0.07586345076560974, 0.059616994112730026, 0.04679487273097038, 0.041019029915332794, 0.03745265677571297, 0.03718974441289902, 0.037083931267261505, 0.03632150962948799, 0.03232874348759651, 0.030563903972506523, 0.028359761461615562, 0.025617582723498344, 0.024780787527561188, 0.024478983134031296, 0.024463379755616188, 0.023881735280156136, 0.023805752396583557, 0.02378361113369465, 0.02317146211862564, 0.021231157705187798, 0.0209964569658041, 0.01923515275120735, 0.01742038130760193, 0.01609576866030693, 0.015017676167190075, 0.014955460093915462, 0.014945108443498611, 0.014825796708464622, 0.014525942504405975, 0.011967804282903671, 0.011848991736769676, 0.011178670451045036, 0.010886832140386105, 0.010538361966609955, 0.010457273572683334, 0.0104224169626832, 0.010236004367470741, 0.008857360109686852, 0.00880255363881588, 0.008518689312040806, 0.008307833224534988, 0.00825758371502161, 0.00816255807876587, 0.007802685722708702, 0.007485415320843458, 0.007433738559484482, 0.0071395887061953545, 0.007112083490937948, 0.006715164985507727, 0.006698842626065016, 0.006449796725064516, 0.006355814635753632, 0.0061097112484276295, 0.005777745973318815, 0.005236603319644928, 0.0048690978437662125, 0.004604269750416279, 0.004347845446318388, 0.0037798841949552298, 0.002862605731934309, 0.002672443399205804, 0.002557269996032119, 0.0023991030175238848, 0.002252774080261588, 0.00202741171233356, 0.0020172675140202045, 0.002013726392760873, 0.0020017318893224, 0.0019825531635433435, 0.0019052322022616863, 0.0018340686801820993, 0.001706599723547697, 0.0016949279233813286, 0.0014889142476022243, 0.001420336659066379, 0.001334131695330143, 0.0012257482158020139, 0.0011617180425673723, 0.001052684965543449, 0.0010298597626388073, 0.001021959469653666, 0.000997352646663785, 0.0009910553926602006, 0.0009268851717934012, 0.0009095041314139962, 0.000874109216965735, 0.0008083843276835978, 0.0007532995077781379, 0.0007410027319565415, 0.0007190668839029968, 0.0006874554674141109, 0.000604747561737895, 0.0004967753775417805, 0.00046523267519660294, 0.0003596892347559333, 0.0003443374880589545, 0.0003342344716656953, 0.00028417393332347274, 0.00023478915682062507, 0.00017316575394943357, 0.00016842006880324334, 0.0001602434494998306, 0.00015750352758914232, 0.00014926079893484712, 0.00010446779197081923, 9.790105104912072e-05, 8.195624104700983e-05, 8.116913522826508e-05, 7.649453618796542e-05, 7.355917477980256e-05, 6.782491254853085e-05, 6.724247941747308e-05]}\n"
     ]
    }
   ],
   "source": [
    "text = \"I want songs that are happy\"\n",
    "classes_verbalized = list(labels.keys())\n",
    "zeroshot_classifier = pipeline(\"zero-shot-classification\", model=\"MoritzLaurer/deberta-v3-large-zeroshot-v2.0\")  # change the model identifier here\n",
    "output = zeroshot_classifier(text, classes_verbalized, multi_label=True)\n",
    "print(output)\n",
    "#MoritzLaurer/ModernBERT-large-zeroshot-v2.0\n",
    "#MoritzLaurer/deberta-v3-large-zeroshot-v2.0"
   ]
  },
  {
   "cell_type": "code",
   "execution_count": 212,
   "id": "6e18ca49-3174-43d4-96c2-36940c0caab1",
   "metadata": {},
   "outputs": [
    {
     "name": "stdout",
     "output_type": "stream",
     "text": [
      "low speechiness\n",
      "list\n",
      "songwriter\n",
      "none\n",
      "low tempo\n",
      "list\n",
      "singer-songwriter\n",
      "none\n",
      "pop\n",
      "none\n",
      "happy\n",
      "list\n",
      "short duration\n",
      "list\n"
     ]
    }
   ],
   "source": [
    "test_playlist = [df.iloc[random.randint(0, len(df))][\"track_id\"] for i in range(100)]\n",
    "\n",
    "use_labels = [output[\"labels\"][x] for x in range(len(output[\"labels\"])) if output[\"scores\"][x] > 0.8]\n",
    "test_input = \"I want the songs that are happier\"\n",
    "final_playlist = []\n",
    "count = 0\n",
    "for label in use_labels:\n",
    "    print(label)\n",
    "    label_val = labels[label]\n",
    "    col = None\n",
    "    if label_val is None:\n",
    "        #if the label is a genre\n",
    "        col = \"track_genre\"\n",
    "    else:\n",
    "        #if label is any other category"
   ]
  },
  {
   "cell_type": "code",
   "execution_count": 186,
   "id": "7fef3db1-9c82-408f-9597-336edbe524f5",
   "metadata": {},
   "outputs": [
    {
     "name": "stdout",
     "output_type": "stream",
     "text": [
      "I want the songs that are happier\n"
     ]
    },
    {
     "name": "stderr",
     "output_type": "stream",
     "text": [
      "Device set to use mps:0\n"
     ]
    },
    {
     "name": "stdout",
     "output_type": "stream",
     "text": [
      "<class 'str'>\n",
      "<class 'str'>\n",
      "<class 'str'>\n",
      "<class 'str'>\n",
      "<class 'str'>\n",
      "<class 'str'>\n",
      "<class 'str'>\n",
      "<class 'str'>\n"
     ]
    }
   ],
   "source": [
    "mod = \"MoritzLaurer/deberta-v3-large-zeroshot-v2.0\"\n",
    "def generate_subplaylist(playlist, prompt):\n",
    "    final_playlist = []\n",
    "    print(prompt)\n",
    "    zsc = pipeline(\"zero-shot-classification\", model=mod)\n",
    "    output = zsc(prompt, classes_verbalized, multi_label=True)\n",
    "\n",
    "    use_labels = [output[\"labels\"][x] for x in range(len(output[\"labels\"])) if output[\"scores\"][x] > 0.8]\n",
    "\n",
    "    for label in use_labels:\n",
    "        label_type = type(labels[label])\n",
    "        #for song in test_playlist:\n",
    "        print(label_type)   \n",
    "\n",
    "generate_subplaylist(test_playlist, test_input)\n"
   ]
  },
  {
   "cell_type": "code",
   "execution_count": null,
   "id": "9057b6e8-afe3-490a-8d7f-c9727b17de0d",
   "metadata": {},
   "outputs": [],
   "source": []
  }
 ],
 "metadata": {
  "kernelspec": {
   "display_name": "Python 3 (ipykernel)",
   "language": "python",
   "name": "python3"
  },
  "language_info": {
   "codemirror_mode": {
    "name": "ipython",
    "version": 3
   },
   "file_extension": ".py",
   "mimetype": "text/x-python",
   "name": "python",
   "nbconvert_exporter": "python",
   "pygments_lexer": "ipython3",
   "version": "3.12.2"
  }
 },
 "nbformat": 4,
 "nbformat_minor": 5
}
