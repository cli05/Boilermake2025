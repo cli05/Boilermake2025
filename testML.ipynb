{
 "cells": [
  {
   "cell_type": "code",
   "execution_count": 61,
   "id": "318d2897-06c9-4428-bae1-e1230236a120",
   "metadata": {},
   "outputs": [
    {
     "name": "stdout",
     "output_type": "stream",
     "text": [
      "Requirement already satisfied: transformers in /opt/anaconda3/lib/python3.12/site-packages (4.49.0)\n",
      "Requirement already satisfied: filelock in /opt/anaconda3/lib/python3.12/site-packages (from transformers) (3.13.1)\n",
      "Requirement already satisfied: huggingface-hub<1.0,>=0.26.0 in /opt/anaconda3/lib/python3.12/site-packages (from transformers) (0.29.1)\n",
      "Requirement already satisfied: numpy>=1.17 in /opt/anaconda3/lib/python3.12/site-packages (from transformers) (1.26.4)\n",
      "Requirement already satisfied: packaging>=20.0 in /opt/anaconda3/lib/python3.12/site-packages (from transformers) (23.2)\n",
      "Requirement already satisfied: pyyaml>=5.1 in /opt/anaconda3/lib/python3.12/site-packages (from transformers) (6.0.1)\n",
      "Requirement already satisfied: regex!=2019.12.17 in /opt/anaconda3/lib/python3.12/site-packages (from transformers) (2023.10.3)\n",
      "Requirement already satisfied: requests in /opt/anaconda3/lib/python3.12/site-packages (from transformers) (2.32.2)\n",
      "Requirement already satisfied: tokenizers<0.22,>=0.21 in /opt/anaconda3/lib/python3.12/site-packages (from transformers) (0.21.0)\n",
      "Requirement already satisfied: safetensors>=0.4.1 in /opt/anaconda3/lib/python3.12/site-packages (from transformers) (0.5.2)\n",
      "Requirement already satisfied: tqdm>=4.27 in /opt/anaconda3/lib/python3.12/site-packages (from transformers) (4.66.4)\n",
      "Requirement already satisfied: fsspec>=2023.5.0 in /opt/anaconda3/lib/python3.12/site-packages (from huggingface-hub<1.0,>=0.26.0->transformers) (2024.3.1)\n",
      "Requirement already satisfied: typing-extensions>=3.7.4.3 in /opt/anaconda3/lib/python3.12/site-packages (from huggingface-hub<1.0,>=0.26.0->transformers) (4.11.0)\n",
      "Requirement already satisfied: charset-normalizer<4,>=2 in /opt/anaconda3/lib/python3.12/site-packages (from requests->transformers) (2.0.4)\n",
      "Requirement already satisfied: idna<4,>=2.5 in /opt/anaconda3/lib/python3.12/site-packages (from requests->transformers) (3.7)\n",
      "Requirement already satisfied: urllib3<3,>=1.21.1 in /opt/anaconda3/lib/python3.12/site-packages (from requests->transformers) (2.2.2)\n",
      "Requirement already satisfied: certifi>=2017.4.17 in /opt/anaconda3/lib/python3.12/site-packages (from requests->transformers) (2024.8.30)\n",
      "Note: you may need to restart the kernel to use updated packages.\n"
     ]
    }
   ],
   "source": [
    "%pip install transformers\n",
    "from transformers import pipeline\n",
    "\n",
    "import pandas as pd\n",
    "\n",
    "df = pd.read_csv(\"data/dataset.csv\")"
   ]
  },
  {
   "cell_type": "code",
   "execution_count": 94,
   "id": "c772ce9a-fc2a-4ac4-ab0f-994d55d59ce3",
   "metadata": {},
   "outputs": [],
   "source": [
    "labels = {\n",
    "    # Valence\n",
    "    \"happy\": [0.7, 1.0],\n",
    "    \"neutral mood\": [0.3, 0.7],\n",
    "    \"sad\": [0.0, 0.3],\n",
    "\n",
    "    # Popularity\n",
    "    \"high popularity\": [0.7, 1.0],\n",
    "    \"mid popularity\": [0.3, 0.7],\n",
    "    \"low popularity\": [0.0, 0.3],\n",
    "\n",
    "    # Duration (normalized to [0.0, 1.0])\n",
    "    \"long duration\": [0.7, 1.0],\n",
    "    \"medium duration\": [0.3, 0.7],\n",
    "    \"short duration\": [0.0, 0.3],\n",
    "\n",
    "    # Danceability\n",
    "    \"high danceability\": [0.7, 1.0],\n",
    "    \"mid danceability\": [0.3, 0.7],\n",
    "    \"low danceability\": [0.0, 0.3],\n",
    "\n",
    "    # Energy\n",
    "    \"high energy\": [0.7, 1.0],\n",
    "    \"mid energy\": [0.3, 0.7],\n",
    "    \"low energy\": [0.0, 0.3],\n",
    "\n",
    "    # Loudness (normalized to [0.0, 1.0])\n",
    "    \"high loudness\": [0.7, 1.0],\n",
    "    \"mid loudness\": [0.3, 0.7],\n",
    "    \"low loudness\": [0.0, 0.3],\n",
    "\n",
    "    # Speechiness\n",
    "    \"high speechiness\": [0.7, 1.0],\n",
    "    \"mid speechiness\": [0.3, 0.7],\n",
    "    \"low speechiness\": [0.0, 0.3],\n",
    "\n",
    "    # Acousticness\n",
    "    \"high acousticness\": [0.7, 1.0],\n",
    "    \"mid acousticness\": [0.3, 0.7],\n",
    "    \"low acousticness\": [0.0, 0.3],\n",
    "\n",
    "    # Instrumentalness\n",
    "    \"high instrumentalness\": [0.7, 1.0],\n",
    "    \"mid instrumentalness\": [0.3, 0.7],\n",
    "    \"low instrumentalness\": [0.0, 0.3],\n",
    "\n",
    "    # Liveness\n",
    "    \"high liveness\": [0.7, 1.0],\n",
    "    \"mid liveness\": [0.3, 0.7],\n",
    "    \"low liveness\": [0.0, 0.3],\n",
    "\n",
    "    # Tempo (normalized to [0.0, 1.0])\n",
    "    \"high tempo\": [0.7, 1.0],\n",
    "    \"mid tempo\": [0.3, 0.7],\n",
    "    \"low tempo\": [0.0, 0.3],\n",
    "}"
   ]
  },
  {
   "cell_type": "code",
   "execution_count": 96,
   "id": "4c731b86-5974-4a78-aa46-bbcad77f8b3f",
   "metadata": {},
   "outputs": [
    {
     "name": "stdout",
     "output_type": "stream",
     "text": [
      "   Unnamed: 0                track_id                 artists  \\\n",
      "0           0  5SuOikwiRyPMVoIQDJUgSV             Gen Hoshino   \n",
      "1           1  4qPNDBW1i3p13qLCt0Ki3A            Ben Woodward   \n",
      "2           2  1iJBSr7s7jYXzM8EGcbK5b  Ingrid Michaelson;ZAYN   \n",
      "3           3  6lfxq3CG4xtTiEg7opyCyx            Kina Grannis   \n",
      "4           4  5vjLSffimiIP26QG5WcN2K        Chord Overstreet   \n",
      "\n",
      "                                          album_name  \\\n",
      "0                                             Comedy   \n",
      "1                                   Ghost (Acoustic)   \n",
      "2                                     To Begin Again   \n",
      "3  Crazy Rich Asians (Original Motion Picture Sou...   \n",
      "4                                            Hold On   \n",
      "\n",
      "                   track_name  popularity  duration_ms  explicit  \\\n",
      "0                      Comedy          73       230666     False   \n",
      "1            Ghost - Acoustic          55       149610     False   \n",
      "2              To Begin Again          57       210826     False   \n",
      "3  Can't Help Falling In Love          71       201933     False   \n",
      "4                     Hold On          82       198853     False   \n",
      "\n",
      "   danceability  energy  ...  popularity_normalized  duration_ms_normalized  \\\n",
      "0         0.676  0.4610  ...                   0.73                0.042473   \n",
      "1         0.420  0.1660  ...                   0.55                0.026971   \n",
      "2         0.438  0.3590  ...                   0.57                0.038679   \n",
      "3         0.266  0.0596  ...                   0.71                0.036978   \n",
      "4         0.618  0.4430  ...                   0.82                0.036389   \n",
      "\n",
      "   danceability_normalized  energy_normalized  loudness_normalized  \\\n",
      "0                 0.686294             0.4610             0.791392   \n",
      "1                 0.426396             0.1660             0.597377   \n",
      "2                 0.444670             0.3590             0.736123   \n",
      "3                 0.270051             0.0596             0.573701   \n",
      "4                 0.627411             0.4430             0.737103   \n",
      "\n",
      "   speechiness_normalized  acousticness_normalized  \\\n",
      "0                0.148187                 0.032329   \n",
      "1                0.079067                 0.927711   \n",
      "2                0.057720                 0.210843   \n",
      "3                0.037617                 0.908635   \n",
      "4                0.054508                 0.470884   \n",
      "\n",
      "   instrumentalness_normalized  liveness_normalized  tempo_normalized  \n",
      "0                     0.000001               0.3580          0.361245  \n",
      "1                     0.000006               0.1010          0.318397  \n",
      "2                     0.000000               0.1170          0.313643  \n",
      "3                     0.000071               0.1320          0.746758  \n",
      "4                     0.000000               0.0829          0.492863  \n",
      "\n",
      "[5 rows x 32 columns]\n"
     ]
    }
   ],
   "source": [
    "# Define min and max values for each feature (adjust based on your dataset)\n",
    "feature_ranges = {\n",
    "    \"valence\": (0.0, 1.0),\n",
    "    \"popularity\": (0, 100),\n",
    "    \"duration_ms\": (8586, 5237295),  # Adjust based on your dataset\n",
    "    \"danceability\": (0.0, 0.985),\n",
    "    \"energy\": (0.0, 1.0),\n",
    "    \"loudness\": (-49.531, 4.532),  # Loudness ranges from -60 dB to 0 dB\n",
    "    \"speechiness\": (0.0, 0.965),\n",
    "    \"acousticness\": (0.0, 0.996),\n",
    "    \"instrumentalness\": (0.0, 1.0),\n",
    "    \"liveness\": (0.0, 1.0),\n",
    "    \"tempo\": (0, 243.372),  # Tempo ranges from 0 BPM to 250 BPM\n",
    "}\n",
    "\n",
    "# Normalize features to [0.0, 1.0]\n",
    "for feature, (min_val, max_val) in feature_ranges.items():\n",
    "    df[f\"{feature}_normalized\"] = (df[feature] - min_val) / (max_val - min_val)\n",
    "\n",
    "# Display the updated dataset\n",
    "print(df.head())"
   ]
  },
  {
   "cell_type": "code",
   "execution_count": 98,
   "id": "a9396466-dbbf-4b86-9a99-0d451159c60a",
   "metadata": {},
   "outputs": [
    {
     "name": "stdout",
     "output_type": "stream",
     "text": [
      "dict_keys(['happy', 'neutral mood', 'sad', 'high popularity', 'mid popularity', 'low popularity', 'long duration', 'medium duration', 'short duration', 'high danceability', 'mid danceability', 'low danceability', 'high energy', 'mid energy', 'low energy', 'high loudness', 'mid loudness', 'low loudness', 'high speechiness', 'mid speechiness', 'low speechiness', 'high acousticness', 'mid acousticness', 'low acousticness', 'high instrumentalness', 'mid instrumentalness', 'low instrumentalness', 'high liveness', 'mid liveness', 'low liveness', 'high tempo', 'mid tempo', 'low tempo', 'acoustic', 'afrobeat', 'alt-rock', 'alternative', 'ambient', 'anime', 'black-metal', 'bluegrass', 'blues', 'brazil', 'breakbeat', 'british', 'cantopop', 'chicago-house', 'children', 'chill', 'classical', 'club', 'comedy', 'country', 'dance', 'dancehall', 'death-metal', 'deep-house', 'detroit-techno', 'disco', 'disney', 'drum-and-bass', 'dub', 'dubstep', 'edm', 'electro', 'electronic', 'emo', 'folk', 'forro', 'french', 'funk', 'garage', 'german', 'gospel', 'goth', 'grindcore', 'groove', 'grunge', 'guitar', 'hard-rock', 'hardcore', 'hardstyle', 'heavy-metal', 'hip-hop', 'honky-tonk', 'house', 'idm', 'indian', 'indie-pop', 'indie', 'industrial', 'iranian', 'j-dance', 'j-idol', 'j-pop', 'j-rock', 'jazz', 'k-pop', 'kids', 'latin', 'latino', 'malay', 'mandopop', 'metal', 'metalcore', 'minimal-techno', 'mpb', 'new-age', 'opera', 'pagode', 'party', 'piano', 'pop-film', 'pop', 'power-pop', 'progressive-house', 'psych-rock', 'punk-rock', 'punk', 'r-n-b', 'reggae', 'reggaeton', 'rock-n-roll', 'rock', 'rockabilly', 'romance', 'salsa', 'samba', 'sertanejo', 'show-tunes', 'singer-songwriter', 'ska', 'sleep', 'songwriter', 'soul', 'spanish', 'study', 'swedish', 'synth-pop', 'tango', 'techno', 'trance', 'trip-hop', 'turkish', 'world-music'])\n"
     ]
    }
   ],
   "source": [
    "for index, rows in df.iterrows():\n",
    "    if rows[\"track_genre\"] not in labels:\n",
    "        labels[rows[\"track_genre\"]] = None\n",
    "\n",
    "print(labels.keys())"
   ]
  },
  {
   "cell_type": "code",
   "execution_count": 104,
   "id": "828aa338-e4bd-4381-872b-9dab8537dfcd",
   "metadata": {},
   "outputs": [
    {
     "name": "stderr",
     "output_type": "stream",
     "text": [
      "Device set to use mps:0\n"
     ]
    },
    {
     "name": "stdout",
     "output_type": "stream",
     "text": [
      "{'sequence': 'I want a country song', 'labels': ['country', 'low tempo', 'low speechiness', 'low danceability', 'neutral mood', 'short duration', 'low loudness', 'low energy', 'low instrumentalness', 'mid loudness', 'mid energy', 'low popularity', 'low liveness', 'mid popularity', 'medium duration', 'mid speechiness', 'low acousticness', 'chill', 'high popularity', 'singer-songwriter', 'idm', 'high liveness', 'songwriter', 'edm', 'mid instrumentalness', 'mid liveness', 'comedy', 'mid tempo', 'high acousticness', 'electronic', 'mid acousticness', 'alternative', 'mpb', 'kids', 'long duration', 'high instrumentalness', 'happy', 'children', 'high loudness', 'ambient', 'guitar', 'high energy', 'dub', 'acoustic', 'honky-tonk', 'folk', 'high speechiness', 'sad', 'mid danceability', 'pagode', 'piano', 'high danceability', 'forro', 'chicago-house', 'british', 'romance', 'house', 'study', 'j-idol', 'hardcore', 'high tempo', 'disney', 'groove', 'club', 'indie', 'deep-house', 'new-age', 'malay', 'indian', 'rockabilly', 'minimal-techno', 'world-music', 'soul', 'r-n-b', 'classical', 'emo', 'brazil', 'bluegrass', 'show-tunes', 'spanish', 'iranian', 'sertanejo', 'industrial', 'latin', 'progressive-house', 'swedish', 'dance', 'j-dance', 'alt-rock', 'latino', 'blues', 'party', 'k-pop', 'rock-n-roll', 'punk', 'turkish', 'pop', 'cantopop', 'ska', 'garage', 'german', 'pop-film', 'indie-pop', 'anime', 'french', 'j-pop', 'mandopop', 'rock', 'funk', 'j-rock', 'power-pop', 'gospel', 'goth', 'tango', 'heavy-metal', 'detroit-techno', 'breakbeat', 'hip-hop', 'synth-pop', 'hardstyle', 'trip-hop', 'dancehall', 'psych-rock', 'reggaeton', 'death-metal', 'trance', 'disco', 'electro', 'afrobeat', 'black-metal', 'grunge', 'punk-rock', 'samba', 'hard-rock', 'drum-and-bass', 'jazz', 'metalcore', 'salsa', 'metal', 'opera', 'reggae', 'sleep', 'techno', 'dubstep', 'grindcore'], 'scores': [0.24403302371501923, 0.09189338237047195, 0.08076030761003494, 0.05720607563853264, 0.05602477118372917, 0.04387180134654045, 0.042530663311481476, 0.0420389324426651, 0.03964729234576225, 0.029742855578660965, 0.02077784389257431, 0.018837178125977516, 0.016513345763087273, 0.01637437753379345, 0.016186825931072235, 0.015795202925801277, 0.012307890690863132, 0.011707844212651253, 0.01068760547786951, 0.009495990350842476, 0.009243096224963665, 0.006752104498445988, 0.006262074690312147, 0.006229199003428221, 0.006094997748732567, 0.005320137366652489, 0.005043975077569485, 0.0048878807574510574, 0.004311520140618086, 0.004195882473140955, 0.004121996462345123, 0.0038380571641027927, 0.0035363633651286364, 0.003018344519659877, 0.0025928651448339224, 0.002581361448392272, 0.00255396100692451, 0.002533502411097288, 0.002425052225589752, 0.0019511356949806213, 0.0019487955141812563, 0.0017862730892375112, 0.0017683855257928371, 0.0017660740995779634, 0.0016415874706581235, 0.001534275826998055, 0.0014417518395930529, 0.0012444977182894945, 0.0011013007024303079, 0.0009018374839797616, 0.0007682747673243284, 0.0007025481900200248, 0.0006835024687461555, 0.0006168429390527308, 0.0006076800054870546, 0.0006014831596985459, 0.0005686289514414966, 0.0005581867881119251, 0.0005198197322897613, 0.0005057101370766759, 0.0004730151849798858, 0.0004538610519375652, 0.000432943255873397, 0.00042727592517621815, 0.00042035296792164445, 0.00035149851464666426, 0.0003015759866684675, 0.00027997346478514373, 0.00023585304734297097, 0.00023130844056140631, 0.00022667924349661916, 0.00022605707636103034, 0.00022527415421791375, 0.00021606053633149713, 0.00021454582747537643, 0.00021085450134705752, 0.00020747666712850332, 0.00020419555949047208, 0.0002022539993049577, 0.00020179545390419662, 0.0002013152843574062, 0.00020061593386344612, 0.00020006205886602402, 0.00019485461234580725, 0.00018925587937701494, 0.00018207903485745192, 0.0001797220902517438, 0.00017729723185766488, 0.0001720012369332835, 0.00016763991152402014, 0.0001655668020248413, 0.00016542365483473986, 0.00016516166215296835, 0.00016441644402220845, 0.00016341877926606685, 0.0001606552250450477, 0.00015909000649116933, 0.00015842806897126138, 0.0001581415708642453, 0.00015636402531526983, 0.00015483573952224106, 0.0001521254744147882, 0.00015138721209950745, 0.00015131548570934683, 0.00014914000348653644, 0.00014765275409445167, 0.0001451634307159111, 0.00014181910955812782, 0.0001417017774656415, 0.0001383515482302755, 0.00013693950313609093, 0.00013592203322332352, 0.00013574444164987653, 0.00013034287258051336, 0.00013030781701672822, 0.0001294063840759918, 0.0001263531157746911, 0.00012391987547744066, 0.00012307822180446237, 0.00012069675722159445, 0.00012068951036781073, 0.00011950809857808053, 0.00011908839223906398, 0.00011826388799818233, 0.00011798867490142584, 0.00011719726171577349, 0.00011659182200673968, 0.00011582899605855346, 0.00011553565855138004, 0.00011517569510033354, 0.00011416283814469352, 0.00011409111903049052, 0.00011365010868757963, 0.0001132759207393974, 0.00011297126184217632, 0.00011108264152426273, 0.00011066761362599209, 0.00011046685540350154, 0.00011034659837605432, 0.00010806751379277557, 0.0001073340536095202, 0.00010553574975347146, 0.00010294825915480033, 0.00010264798038406298, 0.0001020744675770402]}\n"
     ]
    }
   ],
   "source": [
    "text = \"I want a country song\"\n",
    "hypothesis_template = \"This text is about {}\"\n",
    "classes_verbalized = list(labels.keys())\n",
    "zeroshot_classifier = pipeline(\"zero-shot-classification\", model=\"MoritzLaurer/deberta-v3-large-zeroshot-v2.0\")  # change the model identifier here\n",
    "output = zeroshot_classifier(text, classes_verbalized, multi_label=False)\n",
    "print(output)"
   ]
  },
  {
   "cell_type": "code",
   "execution_count": null,
   "id": "6e18ca49-3174-43d4-96c2-36940c0caab1",
   "metadata": {},
   "outputs": [],
   "source": []
  },
  {
   "cell_type": "code",
   "execution_count": null,
   "id": "7fef3db1-9c82-408f-9597-336edbe524f5",
   "metadata": {},
   "outputs": [],
   "source": []
  }
 ],
 "metadata": {
  "kernelspec": {
   "display_name": "Python 3 (ipykernel)",
   "language": "python",
   "name": "python3"
  },
  "language_info": {
   "codemirror_mode": {
    "name": "ipython",
    "version": 3
   },
   "file_extension": ".py",
   "mimetype": "text/x-python",
   "name": "python",
   "nbconvert_exporter": "python",
   "pygments_lexer": "ipython3",
   "version": "3.12.2"
  }
 },
 "nbformat": 4,
 "nbformat_minor": 5
}
