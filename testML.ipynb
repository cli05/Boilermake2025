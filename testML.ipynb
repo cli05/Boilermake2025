{
 "cells": [
  {
   "cell_type": "code",
   "execution_count": 61,
   "id": "318d2897-06c9-4428-bae1-e1230236a120",
   "metadata": {},
   "outputs": [
    {
     "name": "stdout",
     "output_type": "stream",
     "text": [
      "Requirement already satisfied: transformers in /opt/anaconda3/lib/python3.12/site-packages (4.49.0)\n",
      "Requirement already satisfied: filelock in /opt/anaconda3/lib/python3.12/site-packages (from transformers) (3.13.1)\n",
      "Requirement already satisfied: huggingface-hub<1.0,>=0.26.0 in /opt/anaconda3/lib/python3.12/site-packages (from transformers) (0.29.1)\n",
      "Requirement already satisfied: numpy>=1.17 in /opt/anaconda3/lib/python3.12/site-packages (from transformers) (1.26.4)\n",
      "Requirement already satisfied: packaging>=20.0 in /opt/anaconda3/lib/python3.12/site-packages (from transformers) (23.2)\n",
      "Requirement already satisfied: pyyaml>=5.1 in /opt/anaconda3/lib/python3.12/site-packages (from transformers) (6.0.1)\n",
      "Requirement already satisfied: regex!=2019.12.17 in /opt/anaconda3/lib/python3.12/site-packages (from transformers) (2023.10.3)\n",
      "Requirement already satisfied: requests in /opt/anaconda3/lib/python3.12/site-packages (from transformers) (2.32.2)\n",
      "Requirement already satisfied: tokenizers<0.22,>=0.21 in /opt/anaconda3/lib/python3.12/site-packages (from transformers) (0.21.0)\n",
      "Requirement already satisfied: safetensors>=0.4.1 in /opt/anaconda3/lib/python3.12/site-packages (from transformers) (0.5.2)\n",
      "Requirement already satisfied: tqdm>=4.27 in /opt/anaconda3/lib/python3.12/site-packages (from transformers) (4.66.4)\n",
      "Requirement already satisfied: fsspec>=2023.5.0 in /opt/anaconda3/lib/python3.12/site-packages (from huggingface-hub<1.0,>=0.26.0->transformers) (2024.3.1)\n",
      "Requirement already satisfied: typing-extensions>=3.7.4.3 in /opt/anaconda3/lib/python3.12/site-packages (from huggingface-hub<1.0,>=0.26.0->transformers) (4.11.0)\n",
      "Requirement already satisfied: charset-normalizer<4,>=2 in /opt/anaconda3/lib/python3.12/site-packages (from requests->transformers) (2.0.4)\n",
      "Requirement already satisfied: idna<4,>=2.5 in /opt/anaconda3/lib/python3.12/site-packages (from requests->transformers) (3.7)\n",
      "Requirement already satisfied: urllib3<3,>=1.21.1 in /opt/anaconda3/lib/python3.12/site-packages (from requests->transformers) (2.2.2)\n",
      "Requirement already satisfied: certifi>=2017.4.17 in /opt/anaconda3/lib/python3.12/site-packages (from requests->transformers) (2024.8.30)\n",
      "Note: you may need to restart the kernel to use updated packages.\n"
     ]
    }
   ],
   "source": [
    "%pip install transformers\n",
    "from transformers import pipeline\n",
    "\n",
    "import pandas as pd\n",
    "\n",
    "df = pd.read_csv(\"data/dataset.csv\")"
   ]
  },
  {
   "cell_type": "code",
   "execution_count": 94,
   "id": "c772ce9a-fc2a-4ac4-ab0f-994d55d59ce3",
   "metadata": {},
   "outputs": [],
   "source": [
    "labels = {\n",
    "    # Valence\n",
    "    \"happy\": [0.7, 1.0],\n",
    "    \"neutral mood\": [0.3, 0.7],\n",
    "    \"sad\": [0.0, 0.3],\n",
    "\n",
    "    # Popularity\n",
    "    \"high popularity\": [0.7, 1.0],\n",
    "    \"mid popularity\": [0.3, 0.7],\n",
    "    \"low popularity\": [0.0, 0.3],\n",
    "\n",
    "    # Duration (normalized to [0.0, 1.0])\n",
    "    \"long duration\": [0.7, 1.0],\n",
    "    \"medium duration\": [0.3, 0.7],\n",
    "    \"short duration\": [0.0, 0.3],\n",
    "\n",
    "    # Danceability\n",
    "    \"high danceability\": [0.7, 1.0],\n",
    "    \"mid danceability\": [0.3, 0.7],\n",
    "    \"low danceability\": [0.0, 0.3],\n",
    "\n",
    "    # Energy\n",
    "    \"high energy\": [0.7, 1.0],\n",
    "    \"mid energy\": [0.3, 0.7],\n",
    "    \"low energy\": [0.0, 0.3],\n",
    "\n",
    "    # Loudness (normalized to [0.0, 1.0])\n",
    "    \"high loudness\": [0.7, 1.0],\n",
    "    \"mid loudness\": [0.3, 0.7],\n",
    "    \"low loudness\": [0.0, 0.3],\n",
    "\n",
    "    # Speechiness\n",
    "    \"high speechiness\": [0.7, 1.0],\n",
    "    \"mid speechiness\": [0.3, 0.7],\n",
    "    \"low speechiness\": [0.0, 0.3],\n",
    "\n",
    "    # Acousticness\n",
    "    \"high acousticness\": [0.7, 1.0],\n",
    "    \"mid acousticness\": [0.3, 0.7],\n",
    "    \"low acousticness\": [0.0, 0.3],\n",
    "\n",
    "    # Instrumentalness\n",
    "    \"high instrumentalness\": [0.7, 1.0],\n",
    "    \"mid instrumentalness\": [0.3, 0.7],\n",
    "    \"low instrumentalness\": [0.0, 0.3],\n",
    "\n",
    "    # Liveness\n",
    "    \"high liveness\": [0.7, 1.0],\n",
    "    \"mid liveness\": [0.3, 0.7],\n",
    "    \"low liveness\": [0.0, 0.3],\n",
    "\n",
    "    # Tempo (normalized to [0.0, 1.0])\n",
    "    \"high tempo\": [0.7, 1.0],\n",
    "    \"mid tempo\": [0.3, 0.7],\n",
    "    \"low tempo\": [0.0, 0.3],\n",
    "}"
   ]
  },
  {
   "cell_type": "code",
   "execution_count": 96,
   "id": "4c731b86-5974-4a78-aa46-bbcad77f8b3f",
   "metadata": {},
   "outputs": [
    {
     "name": "stdout",
     "output_type": "stream",
     "text": [
      "   Unnamed: 0                track_id                 artists  \\\n",
      "0           0  5SuOikwiRyPMVoIQDJUgSV             Gen Hoshino   \n",
      "1           1  4qPNDBW1i3p13qLCt0Ki3A            Ben Woodward   \n",
      "2           2  1iJBSr7s7jYXzM8EGcbK5b  Ingrid Michaelson;ZAYN   \n",
      "3           3  6lfxq3CG4xtTiEg7opyCyx            Kina Grannis   \n",
      "4           4  5vjLSffimiIP26QG5WcN2K        Chord Overstreet   \n",
      "\n",
      "                                          album_name  \\\n",
      "0                                             Comedy   \n",
      "1                                   Ghost (Acoustic)   \n",
      "2                                     To Begin Again   \n",
      "3  Crazy Rich Asians (Original Motion Picture Sou...   \n",
      "4                                            Hold On   \n",
      "\n",
      "                   track_name  popularity  duration_ms  explicit  \\\n",
      "0                      Comedy          73       230666     False   \n",
      "1            Ghost - Acoustic          55       149610     False   \n",
      "2              To Begin Again          57       210826     False   \n",
      "3  Can't Help Falling In Love          71       201933     False   \n",
      "4                     Hold On          82       198853     False   \n",
      "\n",
      "   danceability  energy  ...  popularity_normalized  duration_ms_normalized  \\\n",
      "0         0.676  0.4610  ...                   0.73                0.042473   \n",
      "1         0.420  0.1660  ...                   0.55                0.026971   \n",
      "2         0.438  0.3590  ...                   0.57                0.038679   \n",
      "3         0.266  0.0596  ...                   0.71                0.036978   \n",
      "4         0.618  0.4430  ...                   0.82                0.036389   \n",
      "\n",
      "   danceability_normalized  energy_normalized  loudness_normalized  \\\n",
      "0                 0.686294             0.4610             0.791392   \n",
      "1                 0.426396             0.1660             0.597377   \n",
      "2                 0.444670             0.3590             0.736123   \n",
      "3                 0.270051             0.0596             0.573701   \n",
      "4                 0.627411             0.4430             0.737103   \n",
      "\n",
      "   speechiness_normalized  acousticness_normalized  \\\n",
      "0                0.148187                 0.032329   \n",
      "1                0.079067                 0.927711   \n",
      "2                0.057720                 0.210843   \n",
      "3                0.037617                 0.908635   \n",
      "4                0.054508                 0.470884   \n",
      "\n",
      "   instrumentalness_normalized  liveness_normalized  tempo_normalized  \n",
      "0                     0.000001               0.3580          0.361245  \n",
      "1                     0.000006               0.1010          0.318397  \n",
      "2                     0.000000               0.1170          0.313643  \n",
      "3                     0.000071               0.1320          0.746758  \n",
      "4                     0.000000               0.0829          0.492863  \n",
      "\n",
      "[5 rows x 32 columns]\n"
     ]
    }
   ],
   "source": [
    "# Define min and max values for each feature (adjust based on your dataset)\n",
    "feature_ranges = {\n",
    "    \"valence\": (0.0, 1.0),\n",
    "    \"popularity\": (0, 100),\n",
    "    \"duration_ms\": (8586, 5237295),  # Adjust based on your dataset\n",
    "    \"danceability\": (0.0, 0.985),\n",
    "    \"energy\": (0.0, 1.0),\n",
    "    \"loudness\": (-49.531, 4.532),  # Loudness ranges from -60 dB to 0 dB\n",
    "    \"speechiness\": (0.0, 0.965),\n",
    "    \"acousticness\": (0.0, 0.996),\n",
    "    \"instrumentalness\": (0.0, 1.0),\n",
    "    \"liveness\": (0.0, 1.0),\n",
    "    \"tempo\": (0, 243.372),  # Tempo ranges from 0 BPM to 250 BPM\n",
    "}\n",
    "\n",
    "# Normalize features to [0.0, 1.0]\n",
    "for feature, (min_val, max_val) in feature_ranges.items():\n",
    "    df[f\"{feature}_normalized\"] = (df[feature] - min_val) / (max_val - min_val)\n",
    "\n",
    "# Display the updated dataset\n",
    "print(df.head())"
   ]
  },
  {
   "cell_type": "code",
   "execution_count": 98,
   "id": "a9396466-dbbf-4b86-9a99-0d451159c60a",
   "metadata": {},
   "outputs": [
    {
     "name": "stdout",
     "output_type": "stream",
     "text": [
      "dict_keys(['happy', 'neutral mood', 'sad', 'high popularity', 'mid popularity', 'low popularity', 'long duration', 'medium duration', 'short duration', 'high danceability', 'mid danceability', 'low danceability', 'high energy', 'mid energy', 'low energy', 'high loudness', 'mid loudness', 'low loudness', 'high speechiness', 'mid speechiness', 'low speechiness', 'high acousticness', 'mid acousticness', 'low acousticness', 'high instrumentalness', 'mid instrumentalness', 'low instrumentalness', 'high liveness', 'mid liveness', 'low liveness', 'high tempo', 'mid tempo', 'low tempo', 'acoustic', 'afrobeat', 'alt-rock', 'alternative', 'ambient', 'anime', 'black-metal', 'bluegrass', 'blues', 'brazil', 'breakbeat', 'british', 'cantopop', 'chicago-house', 'children', 'chill', 'classical', 'club', 'comedy', 'country', 'dance', 'dancehall', 'death-metal', 'deep-house', 'detroit-techno', 'disco', 'disney', 'drum-and-bass', 'dub', 'dubstep', 'edm', 'electro', 'electronic', 'emo', 'folk', 'forro', 'french', 'funk', 'garage', 'german', 'gospel', 'goth', 'grindcore', 'groove', 'grunge', 'guitar', 'hard-rock', 'hardcore', 'hardstyle', 'heavy-metal', 'hip-hop', 'honky-tonk', 'house', 'idm', 'indian', 'indie-pop', 'indie', 'industrial', 'iranian', 'j-dance', 'j-idol', 'j-pop', 'j-rock', 'jazz', 'k-pop', 'kids', 'latin', 'latino', 'malay', 'mandopop', 'metal', 'metalcore', 'minimal-techno', 'mpb', 'new-age', 'opera', 'pagode', 'party', 'piano', 'pop-film', 'pop', 'power-pop', 'progressive-house', 'psych-rock', 'punk-rock', 'punk', 'r-n-b', 'reggae', 'reggaeton', 'rock-n-roll', 'rock', 'rockabilly', 'romance', 'salsa', 'samba', 'sertanejo', 'show-tunes', 'singer-songwriter', 'ska', 'sleep', 'songwriter', 'soul', 'spanish', 'study', 'swedish', 'synth-pop', 'tango', 'techno', 'trance', 'trip-hop', 'turkish', 'world-music'])\n"
     ]
    }
   ],
   "source": [
    "for index, rows in df.iterrows():\n",
    "    if rows[\"track_genre\"] not in labels:\n",
    "        labels[rows[\"track_genre\"]] = None\n",
    "\n",
    "print(labels.keys())"
   ]
  },
  {
   "cell_type": "code",
   "execution_count": 102,
   "id": "828aa338-e4bd-4381-872b-9dab8537dfcd",
   "metadata": {},
   "outputs": [
    {
     "name": "stderr",
     "output_type": "stream",
     "text": [
      "Device set to use mps:0\n"
     ]
    },
    {
     "name": "stdout",
     "output_type": "stream",
     "text": [
      "{'sequence': 'I want a song that is neither sad nor happy', 'labels': ['neutral mood', 'mid loudness', 'mid energy', 'low loudness', 'low speechiness', 'idm', 'low popularity', 'medium duration', 'low danceability', 'low energy', 'low instrumentalness', 'mid tempo', 'short duration', 'mid popularity', 'edm', 'low liveness', 'mid speechiness', 'low acousticness', 'singer-songwriter', 'songwriter', 'alternative', 'r-n-b', 'chill', 'mid instrumentalness', 'pop', 'mid acousticness', 'cantopop', 'mandopop', 'high popularity', 'blues', 'mpb', 'pop-film', 'minimal-techno', 'low tempo', 'folk', 'pagode', 'high speechiness', 'mid liveness', 'rock-n-roll', 'alt-rock', 'indie-pop', 'comedy', 'indie', 'emo', 'guitar', 'forro', 'dub', 'soul', 'electronic', 'rock', 'synth-pop', 'club', 'high liveness', 'groove', 'study', 'mid danceability', 'kids', 'show-tunes', 'long duration', 'high instrumentalness', 'high acousticness', 'children', 'goth', 'k-pop', 'j-rock', 'hardcore', 'hip-hop', 'disney', 'ambient', 'acoustic', 'classical', 'sertanejo', 'power-pop', 'high loudness', 'new-age', 'garage', 'piano', 'grunge', 'progressive-house', 'j-idol', 'j-pop', 'detroit-techno', 'funk', 'country', 'british', 'malay', 'latin', 'deep-house', 'chicago-house', 'reggaeton', 'world-music', 'trance', 'romance', 'ska', 'honky-tonk', 'trip-hop', 'opera', 'hardstyle', 'electro', 'gospel', 'dancehall', 'psych-rock', 'metalcore', 'techno', 'high energy', 'brazil', 'high tempo', 'hard-rock', 'disco', 'jazz', 'bluegrass', 'house', 'latino', 'spanish', 'reggae', 'industrial', 'rockabilly', 'afrobeat', 'high danceability', 'j-dance', 'iranian', 'indian', 'heavy-metal', 'swedish', 'sad', 'tango', 'anime', 'turkish', 'german', 'punk', 'salsa', 'dance', 'french', 'metal', 'samba', 'drum-and-bass', 'death-metal', 'black-metal', 'punk-rock', 'dubstep', 'happy', 'grindcore', 'breakbeat', 'party', 'sleep'], 'scores': [0.3560461401939392, 0.050857074558734894, 0.037775591015815735, 0.03353063389658928, 0.03300147131085396, 0.03180353343486786, 0.026402082294225693, 0.024810336530208588, 0.023061135783791542, 0.022934064269065857, 0.02204398438334465, 0.020298516377806664, 0.018637271597981453, 0.018103672191500664, 0.015288272872567177, 0.015060612000524998, 0.014599686488509178, 0.013959591276943684, 0.009823180735111237, 0.009692491963505745, 0.007822238840162754, 0.007050674874335527, 0.006973866373300552, 0.006913861725479364, 0.0060675544664263725, 0.005516496952623129, 0.005394558887928724, 0.004459700547158718, 0.004293193109333515, 0.004200449679046869, 0.004063170403242111, 0.004036441911011934, 0.00401972746476531, 0.0039882054552435875, 0.0036718857008963823, 0.003580537624657154, 0.0035553229972720146, 0.0034057123120874166, 0.0033977318089455366, 0.002949344925582409, 0.002600569510832429, 0.002587917260825634, 0.002554653212428093, 0.00254982546903193, 0.0025245347060263157, 0.0024655237793922424, 0.002404632745310664, 0.002218595240265131, 0.0021128521766513586, 0.0020687186624854803, 0.001962515292689204, 0.0018485739128664136, 0.0018441143911331892, 0.0018379735993221402, 0.0017646101769059896, 0.0017269904492422938, 0.00171821063850075, 0.0016571730375289917, 0.0016355258412659168, 0.0016140255611389875, 0.0015226443065330386, 0.001518456032499671, 0.0014955824008211493, 0.0014652987010776997, 0.0014522967394441366, 0.0014218492433428764, 0.0013516509206965566, 0.0013500609202310443, 0.001342274947091937, 0.001320892246440053, 0.0013196910731494427, 0.001295489608310163, 0.0012313443003222346, 0.0011749871773645282, 0.0011571208015084267, 0.001138706342317164, 0.0011079906253144145, 0.0010962382657453418, 0.0010821556206792593, 0.0010733003728091717, 0.0010667314054444432, 0.0010645678266882896, 0.0010423802305012941, 0.0010126637062057853, 0.0009598983451724052, 0.0009436350665055215, 0.0009408260229974985, 0.0009362478158436716, 0.0008949301554821432, 0.0008830875158309937, 0.0008617970161139965, 0.0008162921294569969, 0.0008062536944635212, 0.0007974982727319002, 0.0007905792444944382, 0.0007631620392203331, 0.0007387775112874806, 0.000734571018256247, 0.0007315236725844443, 0.0007232672651298344, 0.0007210836047306657, 0.0007180869579315186, 0.000695994938723743, 0.0006874396931380033, 0.0006755864014849067, 0.0006737341755069792, 0.0006695283809676766, 0.0006693078321404755, 0.0006597382016479969, 0.0006356596131809056, 0.0006239887443371117, 0.0006145303486846387, 0.0006056976853869855, 0.0005810708971694112, 0.0005721065681427717, 0.0005621227901428938, 0.0005598769057542086, 0.0005510589689947665, 0.0005434704944491386, 0.0005344523233361542, 0.0005304637597873807, 0.0005231930408626795, 0.0004910947172902524, 0.00048718610196374357, 0.00048631386016495526, 0.00048068378237076104, 0.00047223956789821386, 0.0004702373989857733, 0.0004389542154967785, 0.00043160465429537, 0.0004180859832558781, 0.00040408316999673843, 0.00038697876152582467, 0.0003854168753605336, 0.00036228084354661405, 0.0003509423113428056, 0.00033620072645135224, 0.00027912267250940204, 0.0002777008921839297, 0.00026472104946151376, 0.0002520392299629748, 0.00019498910114634782, 0.0001870713895186782, 0.00017163591110147536, 0.00014792074216529727]}\n"
     ]
    }
   ],
   "source": [
    "text = \"I want a \"\n",
    "hypothesis_template = \"This text is about {}\"\n",
    "classes_verbalized = list(labels.keys())\n",
    "zeroshot_classifier = pipeline(\"zero-shot-classification\", model=\"MoritzLaurer/deberta-v3-large-zeroshot-v2.0\")  # change the model identifier here\n",
    "output = zeroshot_classifier(text, classes_verbalized, multi_label=False)\n",
    "print(output)"
   ]
  },
  {
   "cell_type": "code",
   "execution_count": null,
   "id": "6e18ca49-3174-43d4-96c2-36940c0caab1",
   "metadata": {},
   "outputs": [],
   "source": []
  },
  {
   "cell_type": "code",
   "execution_count": null,
   "id": "7fef3db1-9c82-408f-9597-336edbe524f5",
   "metadata": {},
   "outputs": [],
   "source": []
  }
 ],
 "metadata": {
  "kernelspec": {
   "display_name": "Python 3 (ipykernel)",
   "language": "python",
   "name": "python3"
  },
  "language_info": {
   "codemirror_mode": {
    "name": "ipython",
    "version": 3
   },
   "file_extension": ".py",
   "mimetype": "text/x-python",
   "name": "python",
   "nbconvert_exporter": "python",
   "pygments_lexer": "ipython3",
   "version": "3.12.2"
  }
 },
 "nbformat": 4,
 "nbformat_minor": 5
}
