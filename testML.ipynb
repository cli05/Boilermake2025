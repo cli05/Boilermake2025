{
 "cells": [
  {
   "cell_type": "code",
   "execution_count": 108,
   "id": "318d2897-06c9-4428-bae1-e1230236a120",
   "metadata": {
    "scrolled": true
   },
   "outputs": [
    {
     "name": "stdout",
     "output_type": "stream",
     "text": [
      "Requirement already satisfied: transformers in /opt/anaconda3/lib/python3.12/site-packages (4.49.0)\n",
      "Requirement already satisfied: filelock in /opt/anaconda3/lib/python3.12/site-packages (from transformers) (3.13.1)\n",
      "Requirement already satisfied: huggingface-hub<1.0,>=0.26.0 in /opt/anaconda3/lib/python3.12/site-packages (from transformers) (0.29.1)\n",
      "Requirement already satisfied: numpy>=1.17 in /opt/anaconda3/lib/python3.12/site-packages (from transformers) (1.26.4)\n",
      "Requirement already satisfied: packaging>=20.0 in /opt/anaconda3/lib/python3.12/site-packages (from transformers) (23.2)\n",
      "Requirement already satisfied: pyyaml>=5.1 in /opt/anaconda3/lib/python3.12/site-packages (from transformers) (6.0.1)\n",
      "Requirement already satisfied: regex!=2019.12.17 in /opt/anaconda3/lib/python3.12/site-packages (from transformers) (2023.10.3)\n",
      "Requirement already satisfied: requests in /opt/anaconda3/lib/python3.12/site-packages (from transformers) (2.32.2)\n",
      "Requirement already satisfied: tokenizers<0.22,>=0.21 in /opt/anaconda3/lib/python3.12/site-packages (from transformers) (0.21.0)\n",
      "Requirement already satisfied: safetensors>=0.4.1 in /opt/anaconda3/lib/python3.12/site-packages (from transformers) (0.5.2)\n",
      "Requirement already satisfied: tqdm>=4.27 in /opt/anaconda3/lib/python3.12/site-packages (from transformers) (4.66.4)\n",
      "Requirement already satisfied: fsspec>=2023.5.0 in /opt/anaconda3/lib/python3.12/site-packages (from huggingface-hub<1.0,>=0.26.0->transformers) (2024.3.1)\n",
      "Requirement already satisfied: typing-extensions>=3.7.4.3 in /opt/anaconda3/lib/python3.12/site-packages (from huggingface-hub<1.0,>=0.26.0->transformers) (4.11.0)\n",
      "Requirement already satisfied: charset-normalizer<4,>=2 in /opt/anaconda3/lib/python3.12/site-packages (from requests->transformers) (2.0.4)\n",
      "Requirement already satisfied: idna<4,>=2.5 in /opt/anaconda3/lib/python3.12/site-packages (from requests->transformers) (3.7)\n",
      "Requirement already satisfied: urllib3<3,>=1.21.1 in /opt/anaconda3/lib/python3.12/site-packages (from requests->transformers) (2.2.2)\n",
      "Requirement already satisfied: certifi>=2017.4.17 in /opt/anaconda3/lib/python3.12/site-packages (from requests->transformers) (2024.8.30)\n",
      "Note: you may need to restart the kernel to use updated packages.\n"
     ]
    }
   ],
   "source": [
    "%pip install transformers"
   ]
  },
  {
   "cell_type": "code",
   "execution_count": 140,
   "id": "b7562e4e-0fdb-4551-8abe-b28742338b08",
   "metadata": {},
   "outputs": [],
   "source": [
    "from transformers import pipeline\n",
    "import random\n",
    "import pandas as pd"
   ]
  },
  {
   "cell_type": "code",
   "execution_count": 142,
   "id": "c772ce9a-fc2a-4ac4-ab0f-994d55d59ce3",
   "metadata": {},
   "outputs": [],
   "source": [
    "df = pd.read_csv(\"data/dataset.csv\")\n",
    "labels = {\n",
    "    # Valence\n",
    "    \"happy\": [0.7, 1.0],\n",
    "    \"neutral mood\": [0.3, 0.7],\n",
    "    \"sad\": [0.0, 0.3],\n",
    "\n",
    "    # Popularity\n",
    "    \"high popularity\": [0.7, 1.0],\n",
    "    \"mid popularity\": [0.3, 0.7],\n",
    "    \"low popularity\": [0.0, 0.3],\n",
    "\n",
    "    # Duration (normalized to [0.0, 1.0])\n",
    "    \"long duration\": [0.7, 1.0],\n",
    "    \"medium duration\": [0.3, 0.7],\n",
    "    \"short duration\": [0.0, 0.3],\n",
    "\n",
    "    # Danceability\n",
    "    \"high danceability\": [0.7, 1.0],\n",
    "    \"mid danceability\": [0.3, 0.7],\n",
    "    \"low danceability\": [0.0, 0.3],\n",
    "\n",
    "    # Energy\n",
    "    \"high energy\": [0.7, 1.0],\n",
    "    \"mid energy\": [0.3, 0.7],\n",
    "    \"low energy\": [0.0, 0.3],\n",
    "\n",
    "    # Loudness (normalized to [0.0, 1.0])\n",
    "    \"high loudness\": [0.7, 1.0],\n",
    "    \"mid loudness\": [0.3, 0.7],\n",
    "    \"low loudness\": [0.0, 0.3],\n",
    "\n",
    "    # Speechiness\n",
    "    \"high speechiness\": [0.7, 1.0],\n",
    "    \"mid speechiness\": [0.3, 0.7],\n",
    "    \"low speechiness\": [0.0, 0.3],\n",
    "\n",
    "    # Acousticness\n",
    "    \"high acousticness\": [0.7, 1.0],\n",
    "    \"mid acousticness\": [0.3, 0.7],\n",
    "    \"low acousticness\": [0.0, 0.3],\n",
    "\n",
    "    # Instrumentalness\n",
    "    \"high instrumentalness\": [0.7, 1.0],\n",
    "    \"mid instrumentalness\": [0.3, 0.7],\n",
    "    \"low instrumentalness\": [0.0, 0.3],\n",
    "\n",
    "    # Liveness\n",
    "    \"high liveness\": [0.7, 1.0],\n",
    "    \"mid liveness\": [0.3, 0.7],\n",
    "    \"low liveness\": [0.0, 0.3],\n",
    "\n",
    "    # Tempo (normalized to [0.0, 1.0])\n",
    "    \"high tempo\": [0.7, 1.0],\n",
    "    \"mid tempo\": [0.3, 0.7],\n",
    "    \"low tempo\": [0.0, 0.3],\n",
    "}"
   ]
  },
  {
   "cell_type": "code",
   "execution_count": 144,
   "id": "4c731b86-5974-4a78-aa46-bbcad77f8b3f",
   "metadata": {},
   "outputs": [
    {
     "name": "stdout",
     "output_type": "stream",
     "text": [
      "   Unnamed: 0                track_id                 artists  \\\n",
      "0           0  5SuOikwiRyPMVoIQDJUgSV             Gen Hoshino   \n",
      "1           1  4qPNDBW1i3p13qLCt0Ki3A            Ben Woodward   \n",
      "2           2  1iJBSr7s7jYXzM8EGcbK5b  Ingrid Michaelson;ZAYN   \n",
      "3           3  6lfxq3CG4xtTiEg7opyCyx            Kina Grannis   \n",
      "4           4  5vjLSffimiIP26QG5WcN2K        Chord Overstreet   \n",
      "\n",
      "                                          album_name  \\\n",
      "0                                             Comedy   \n",
      "1                                   Ghost (Acoustic)   \n",
      "2                                     To Begin Again   \n",
      "3  Crazy Rich Asians (Original Motion Picture Sou...   \n",
      "4                                            Hold On   \n",
      "\n",
      "                   track_name  popularity  duration_ms  explicit  \\\n",
      "0                      Comedy          73       230666     False   \n",
      "1            Ghost - Acoustic          55       149610     False   \n",
      "2              To Begin Again          57       210826     False   \n",
      "3  Can't Help Falling In Love          71       201933     False   \n",
      "4                     Hold On          82       198853     False   \n",
      "\n",
      "   danceability  energy  ...  popularity_normalized  duration_ms_normalized  \\\n",
      "0         0.676  0.4610  ...                   0.73                0.042473   \n",
      "1         0.420  0.1660  ...                   0.55                0.026971   \n",
      "2         0.438  0.3590  ...                   0.57                0.038679   \n",
      "3         0.266  0.0596  ...                   0.71                0.036978   \n",
      "4         0.618  0.4430  ...                   0.82                0.036389   \n",
      "\n",
      "   danceability_normalized  energy_normalized  loudness_normalized  \\\n",
      "0                 0.686294             0.4610             0.791392   \n",
      "1                 0.426396             0.1660             0.597377   \n",
      "2                 0.444670             0.3590             0.736123   \n",
      "3                 0.270051             0.0596             0.573701   \n",
      "4                 0.627411             0.4430             0.737103   \n",
      "\n",
      "   speechiness_normalized  acousticness_normalized  \\\n",
      "0                0.148187                 0.032329   \n",
      "1                0.079067                 0.927711   \n",
      "2                0.057720                 0.210843   \n",
      "3                0.037617                 0.908635   \n",
      "4                0.054508                 0.470884   \n",
      "\n",
      "   instrumentalness_normalized  liveness_normalized  tempo_normalized  \n",
      "0                     0.000001               0.3580          0.361245  \n",
      "1                     0.000006               0.1010          0.318397  \n",
      "2                     0.000000               0.1170          0.313643  \n",
      "3                     0.000071               0.1320          0.746758  \n",
      "4                     0.000000               0.0829          0.492863  \n",
      "\n",
      "[5 rows x 32 columns]\n"
     ]
    }
   ],
   "source": [
    "# Define min and max values for each feature (adjust based on your dataset)\n",
    "feature_ranges = {\n",
    "    \"valence\": (0.0, 1.0),\n",
    "    \"popularity\": (0, 100),\n",
    "    \"duration_ms\": (8586, 5237295),  # Adjust based on your dataset\n",
    "    \"danceability\": (0.0, 0.985),\n",
    "    \"energy\": (0.0, 1.0),\n",
    "    \"loudness\": (-49.531, 4.532),  # Loudness ranges from -60 dB to 0 dB\n",
    "    \"speechiness\": (0.0, 0.965),\n",
    "    \"acousticness\": (0.0, 0.996),\n",
    "    \"instrumentalness\": (0.0, 1.0),\n",
    "    \"liveness\": (0.0, 1.0),\n",
    "    \"tempo\": (0, 243.372),  # Tempo ranges from 0 BPM to 250 BPM\n",
    "}\n",
    "\n",
    "# Normalize features to [0.0, 1.0]\n",
    "for feature, (min_val, max_val) in feature_ranges.items():\n",
    "    df[f\"{feature}_normalized\"] = (df[feature] - min_val) / (max_val - min_val)\n",
    "\n",
    "# Display the updated dataset\n",
    "print(df.head())"
   ]
  },
  {
   "cell_type": "code",
   "execution_count": 154,
   "id": "a9396466-dbbf-4b86-9a99-0d451159c60a",
   "metadata": {},
   "outputs": [],
   "source": [
    "#for index, rows in df.iterrows():\n",
    "#    if rows[\"track_genre\"] not in labels:\n",
    "#        labels[rows[\"track_genre\"]] = None\n",
    "\n",
    "#print(labels.keys())"
   ]
  },
  {
   "cell_type": "code",
   "execution_count": 158,
   "id": "828aa338-e4bd-4381-872b-9dab8537dfcd",
   "metadata": {},
   "outputs": [
    {
     "name": "stderr",
     "output_type": "stream",
     "text": [
      "Device set to use mps:0\n"
     ]
    },
    {
     "name": "stdout",
     "output_type": "stream",
     "text": [
      "{'sequence': 'I want songs with high acoustics', 'labels': ['high acousticness', 'low speechiness', 'low tempo', 'low danceability', 'neutral mood', 'short duration', 'high liveness', 'low instrumentalness', 'low popularity', 'low energy', 'mid speechiness', 'mid popularity', 'medium duration', 'low loudness', 'high popularity', 'high loudness', 'mid tempo', 'happy', 'mid instrumentalness', 'long duration', 'high instrumentalness', 'mid energy', 'mid loudness', 'mid liveness', 'high tempo', 'high energy', 'high speechiness', 'mid danceability', 'mid acousticness', 'low liveness', 'sad', 'low acousticness', 'high danceability'], 'scores': [0.9853376150131226, 0.9460946917533875, 0.9397984147071838, 0.9302006363868713, 0.8866062164306641, 0.8294770121574402, 0.806098461151123, 0.805581271648407, 0.7775921821594238, 0.6914476156234741, 0.5151049494743347, 0.3887130320072174, 0.30437108874320984, 0.13056030869483948, 0.09675421565771103, 0.07417282462120056, 0.04692527651786804, 0.043271709233522415, 0.042680103331804276, 0.022770296782255173, 0.022665612399578094, 0.014828162267804146, 0.012509996071457863, 0.011940982192754745, 0.007951164618134499, 0.006327942945063114, 0.004082037601619959, 0.002219871850684285, 0.0018291753949597478, 0.0016097445040941238, 0.0007004334474913776, 0.00034068714012391865, 0.00016247833264060318]}\n"
     ]
    }
   ],
   "source": [
    "text = \"I want songs with high acoustics\"\n",
    "classes_verbalized = list(labels.keys())\n",
    "zeroshot_classifier = pipeline(\"zero-shot-classification\", model=\"MoritzLaurer/deberta-v3-large-zeroshot-v2.0\")  # change the model identifier here\n",
    "output = zeroshot_classifier(text, classes_verbalized, multi_label=True)\n",
    "print(output)"
   ]
  },
  {
   "cell_type": "code",
   "execution_count": 124,
   "id": "6e18ca49-3174-43d4-96c2-36940c0caab1",
   "metadata": {},
   "outputs": [
    {
     "name": "stdout",
     "output_type": "stream",
     "text": [
      "4BRkPBUxOYffM2QXVlq7aC\n",
      "769cLRTw2y6KRdkFWFkxtu\n",
      "5VYlv51oUk1MAIxwmUKbFI\n",
      "6LlUAzeDR4D5y0YsCkAlFO\n",
      "75O62W40uqNDVFeB5tU2Ta\n",
      "3kTq6zXdvy4vkI2FMQ5HnM\n",
      "37nppJzOgypngu1szTRD06\n",
      "4NmrKzS26IiOpPyPZ1EHqv\n",
      "00IjIaUaMCFG5gPE4PrDdG\n",
      "7vE0JifxEUBQ91qaUDC6es\n"
     ]
    }
   ],
   "source": [
    "test_playlist = [df.iloc[random.randint(0, len(df))][\"track_id\"] for i in range(100)]\n",
    "test_input = \"I want the songs that are happier\"\n",
    "count = 0\n",
    "for track in test_playlist:\n",
    "    df.loc[track] #get the row"
   ]
  },
  {
   "cell_type": "code",
   "execution_count": null,
   "id": "7fef3db1-9c82-408f-9597-336edbe524f5",
   "metadata": {},
   "outputs": [],
   "source": []
  }
 ],
 "metadata": {
  "kernelspec": {
   "display_name": "Python 3 (ipykernel)",
   "language": "python",
   "name": "python3"
  },
  "language_info": {
   "codemirror_mode": {
    "name": "ipython",
    "version": 3
   },
   "file_extension": ".py",
   "mimetype": "text/x-python",
   "name": "python",
   "nbconvert_exporter": "python",
   "pygments_lexer": "ipython3",
   "version": "3.12.2"
  }
 },
 "nbformat": 4,
 "nbformat_minor": 5
}
